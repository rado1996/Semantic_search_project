{
 "cells": [
  {
   "cell_type": "code",
   "execution_count": 1,
   "metadata": {
    "collapsed": true
   },
   "outputs": [],
   "source": [
    "mylist = [\"Category:\", \"2\", \"3\", \"4\", \"5\"]"
   ]
  },
  {
   "cell_type": "code",
   "execution_count": 2,
   "metadata": {
    "collapsed": true
   },
   "outputs": [],
   "source": [
    "import pandas as pd"
   ]
  },
  {
   "cell_type": "code",
   "execution_count": 3,
   "metadata": {
    "collapsed": true
   },
   "outputs": [],
   "source": [
    "df = pd.DataFrame(data=mylist)"
   ]
  },
  {
   "cell_type": "code",
   "execution_count": 5,
   "metadata": {},
   "outputs": [
    {
     "name": "stdout",
     "output_type": "stream",
     "text": [
      "0\n",
      "-1\n",
      "-1\n",
      "-1\n",
      "-1\n"
     ]
    }
   ],
   "source": [
    "for title in df[0]:\n",
    "    print(title.find(\"Category\"))\n",
    "    "
   ]
  },
  {
   "cell_type": "code",
   "execution_count": null,
   "metadata": {
    "collapsed": true
   },
   "outputs": [],
   "source": []
  },
  {
   "cell_type": "code",
   "execution_count": null,
   "metadata": {
    "collapsed": true
   },
   "outputs": [],
   "source": []
  },
  {
   "cell_type": "code",
   "execution_count": null,
   "metadata": {
    "collapsed": true
   },
   "outputs": [],
   "source": []
  },
  {
   "cell_type": "code",
   "execution_count": null,
   "metadata": {
    "collapsed": true
   },
   "outputs": [],
   "source": []
  },
  {
   "cell_type": "markdown",
   "metadata": {},
   "source": [
    "## CRUD\n",
    "\n",
    "| | SQL | RESTful API |\n",
    "|:-:|:-:|:-:|\n",
    "| create | `INSERT` | `POST` |\n",
    "| read | `SELECT` | `GET` |\n",
    "| update | `UPDATE` | `PUT` |\n",
    "| delete | `DELETE` | `DELETE` |"
   ]
  },
  {
   "cell_type": "markdown",
   "metadata": {},
   "source": [
    "![](http://interactive.blockdiag.com/image?compression=deflate&encoding=base64&src=eJxLyslPzk7JTExXqOZSUFAvLE0tqlQoz8zOLEgFiqor6NopFKUWl-aUFIOY6uVFmSWpCiX5CgX5xSXpQBl1a65aACFZFx4)"
   ]
  },
  {
   "cell_type": "code",
   "execution_count": 3,
   "metadata": {
    "collapsed": true
   },
   "outputs": [],
   "source": [
    "response = requests.get(\"https://en.wikipedia.org/w/api.php/?pageids=38782554&format=json\")"
   ]
  },
  {
   "cell_type": "code",
   "execution_count": 4,
   "metadata": {},
   "outputs": [
    {
     "ename": "JSONDecodeError",
     "evalue": "Expecting value: line 1 column 1 (char 0)",
     "output_type": "error",
     "traceback": [
      "\u001b[0;31m---------------------------------------------------------------------------\u001b[0m",
      "\u001b[0;31mJSONDecodeError\u001b[0m                           Traceback (most recent call last)",
      "\u001b[0;32m<ipython-input-4-3ddf9a86e14b>\u001b[0m in \u001b[0;36m<module>\u001b[0;34m()\u001b[0m\n\u001b[0;32m----> 1\u001b[0;31m \u001b[0mresponse_json\u001b[0m \u001b[0;34m=\u001b[0m \u001b[0mresponse\u001b[0m\u001b[0;34m.\u001b[0m\u001b[0mjson\u001b[0m\u001b[0;34m(\u001b[0m\u001b[0;34m)\u001b[0m\u001b[0;34m\u001b[0m\u001b[0m\n\u001b[0m",
      "\u001b[0;32m/opt/conda/lib/python3.6/site-packages/requests/models.py\u001b[0m in \u001b[0;36mjson\u001b[0;34m(self, **kwargs)\u001b[0m\n\u001b[1;32m    892\u001b[0m                     \u001b[0;31m# used.\u001b[0m\u001b[0;34m\u001b[0m\u001b[0;34m\u001b[0m\u001b[0m\n\u001b[1;32m    893\u001b[0m                     \u001b[0;32mpass\u001b[0m\u001b[0;34m\u001b[0m\u001b[0m\n\u001b[0;32m--> 894\u001b[0;31m         \u001b[0;32mreturn\u001b[0m \u001b[0mcomplexjson\u001b[0m\u001b[0;34m.\u001b[0m\u001b[0mloads\u001b[0m\u001b[0;34m(\u001b[0m\u001b[0mself\u001b[0m\u001b[0;34m.\u001b[0m\u001b[0mtext\u001b[0m\u001b[0;34m,\u001b[0m \u001b[0;34m**\u001b[0m\u001b[0mkwargs\u001b[0m\u001b[0;34m)\u001b[0m\u001b[0;34m\u001b[0m\u001b[0m\n\u001b[0m\u001b[1;32m    895\u001b[0m \u001b[0;34m\u001b[0m\u001b[0m\n\u001b[1;32m    896\u001b[0m     \u001b[0;34m@\u001b[0m\u001b[0mproperty\u001b[0m\u001b[0;34m\u001b[0m\u001b[0m\n",
      "\u001b[0;32m/opt/conda/lib/python3.6/json/__init__.py\u001b[0m in \u001b[0;36mloads\u001b[0;34m(s, encoding, cls, object_hook, parse_float, parse_int, parse_constant, object_pairs_hook, **kw)\u001b[0m\n\u001b[1;32m    352\u001b[0m             \u001b[0mparse_int\u001b[0m \u001b[0;32mis\u001b[0m \u001b[0;32mNone\u001b[0m \u001b[0;32mand\u001b[0m \u001b[0mparse_float\u001b[0m \u001b[0;32mis\u001b[0m \u001b[0;32mNone\u001b[0m \u001b[0;32mand\u001b[0m\u001b[0;34m\u001b[0m\u001b[0m\n\u001b[1;32m    353\u001b[0m             parse_constant is None and object_pairs_hook is None and not kw):\n\u001b[0;32m--> 354\u001b[0;31m         \u001b[0;32mreturn\u001b[0m \u001b[0m_default_decoder\u001b[0m\u001b[0;34m.\u001b[0m\u001b[0mdecode\u001b[0m\u001b[0;34m(\u001b[0m\u001b[0ms\u001b[0m\u001b[0;34m)\u001b[0m\u001b[0;34m\u001b[0m\u001b[0m\n\u001b[0m\u001b[1;32m    355\u001b[0m     \u001b[0;32mif\u001b[0m \u001b[0mcls\u001b[0m \u001b[0;32mis\u001b[0m \u001b[0;32mNone\u001b[0m\u001b[0;34m:\u001b[0m\u001b[0;34m\u001b[0m\u001b[0m\n\u001b[1;32m    356\u001b[0m         \u001b[0mcls\u001b[0m \u001b[0;34m=\u001b[0m \u001b[0mJSONDecoder\u001b[0m\u001b[0;34m\u001b[0m\u001b[0m\n",
      "\u001b[0;32m/opt/conda/lib/python3.6/json/decoder.py\u001b[0m in \u001b[0;36mdecode\u001b[0;34m(self, s, _w)\u001b[0m\n\u001b[1;32m    337\u001b[0m \u001b[0;34m\u001b[0m\u001b[0m\n\u001b[1;32m    338\u001b[0m         \"\"\"\n\u001b[0;32m--> 339\u001b[0;31m         \u001b[0mobj\u001b[0m\u001b[0;34m,\u001b[0m \u001b[0mend\u001b[0m \u001b[0;34m=\u001b[0m \u001b[0mself\u001b[0m\u001b[0;34m.\u001b[0m\u001b[0mraw_decode\u001b[0m\u001b[0;34m(\u001b[0m\u001b[0ms\u001b[0m\u001b[0;34m,\u001b[0m \u001b[0midx\u001b[0m\u001b[0;34m=\u001b[0m\u001b[0m_w\u001b[0m\u001b[0;34m(\u001b[0m\u001b[0ms\u001b[0m\u001b[0;34m,\u001b[0m \u001b[0;36m0\u001b[0m\u001b[0;34m)\u001b[0m\u001b[0;34m.\u001b[0m\u001b[0mend\u001b[0m\u001b[0;34m(\u001b[0m\u001b[0;34m)\u001b[0m\u001b[0;34m)\u001b[0m\u001b[0;34m\u001b[0m\u001b[0m\n\u001b[0m\u001b[1;32m    340\u001b[0m         \u001b[0mend\u001b[0m \u001b[0;34m=\u001b[0m \u001b[0m_w\u001b[0m\u001b[0;34m(\u001b[0m\u001b[0ms\u001b[0m\u001b[0;34m,\u001b[0m \u001b[0mend\u001b[0m\u001b[0;34m)\u001b[0m\u001b[0;34m.\u001b[0m\u001b[0mend\u001b[0m\u001b[0;34m(\u001b[0m\u001b[0;34m)\u001b[0m\u001b[0;34m\u001b[0m\u001b[0m\n\u001b[1;32m    341\u001b[0m         \u001b[0;32mif\u001b[0m \u001b[0mend\u001b[0m \u001b[0;34m!=\u001b[0m \u001b[0mlen\u001b[0m\u001b[0;34m(\u001b[0m\u001b[0ms\u001b[0m\u001b[0;34m)\u001b[0m\u001b[0;34m:\u001b[0m\u001b[0;34m\u001b[0m\u001b[0m\n",
      "\u001b[0;32m/opt/conda/lib/python3.6/json/decoder.py\u001b[0m in \u001b[0;36mraw_decode\u001b[0;34m(self, s, idx)\u001b[0m\n\u001b[1;32m    355\u001b[0m             \u001b[0mobj\u001b[0m\u001b[0;34m,\u001b[0m \u001b[0mend\u001b[0m \u001b[0;34m=\u001b[0m \u001b[0mself\u001b[0m\u001b[0;34m.\u001b[0m\u001b[0mscan_once\u001b[0m\u001b[0;34m(\u001b[0m\u001b[0ms\u001b[0m\u001b[0;34m,\u001b[0m \u001b[0midx\u001b[0m\u001b[0;34m)\u001b[0m\u001b[0;34m\u001b[0m\u001b[0m\n\u001b[1;32m    356\u001b[0m         \u001b[0;32mexcept\u001b[0m \u001b[0mStopIteration\u001b[0m \u001b[0;32mas\u001b[0m \u001b[0merr\u001b[0m\u001b[0;34m:\u001b[0m\u001b[0;34m\u001b[0m\u001b[0m\n\u001b[0;32m--> 357\u001b[0;31m             \u001b[0;32mraise\u001b[0m \u001b[0mJSONDecodeError\u001b[0m\u001b[0;34m(\u001b[0m\u001b[0;34m\"Expecting value\"\u001b[0m\u001b[0;34m,\u001b[0m \u001b[0ms\u001b[0m\u001b[0;34m,\u001b[0m \u001b[0merr\u001b[0m\u001b[0;34m.\u001b[0m\u001b[0mvalue\u001b[0m\u001b[0;34m)\u001b[0m \u001b[0;32mfrom\u001b[0m \u001b[0;32mNone\u001b[0m\u001b[0;34m\u001b[0m\u001b[0m\n\u001b[0m\u001b[1;32m    358\u001b[0m         \u001b[0;32mreturn\u001b[0m \u001b[0mobj\u001b[0m\u001b[0;34m,\u001b[0m \u001b[0mend\u001b[0m\u001b[0;34m\u001b[0m\u001b[0m\n",
      "\u001b[0;31mJSONDecodeError\u001b[0m: Expecting value: line 1 column 1 (char 0)"
     ]
    }
   ],
   "source": [
    "response_json = response.json()"
   ]
  },
  {
   "cell_type": "code",
   "execution_count": 5,
   "metadata": {},
   "outputs": [
    {
     "data": {
      "text/plain": [
       "'<!DOCTYPE html>\\n<html class=\"client-nojs\" lang=\"en'"
      ]
     },
     "execution_count": 5,
     "metadata": {},
     "output_type": "execute_result"
    }
   ],
   "source": [
    "response.text[:50]"
   ]
  },
  {
   "cell_type": "code",
   "execution_count": 6,
   "metadata": {
    "collapsed": true
   },
   "outputs": [],
   "source": [
    "response_2 = requests.get(\"https://www.wikidata.org/w/api.php?action=wbgetentities&ids=Q39246&format=json\")\n"
   ]
  },
  {
   "cell_type": "code",
   "execution_count": null,
   "metadata": {
    "collapsed": true
   },
   "outputs": [],
   "source": []
  },
  {
   "cell_type": "code",
   "execution_count": 7,
   "metadata": {
    "collapsed": true
   },
   "outputs": [],
   "source": [
    "response = requests.get(\"https://en.wikipedia.org/w/api.php?action=query&list=categorymembers&cmtitle=Category:Machine%20learning&cmlimit=500&format=json\")"
   ]
  },
  {
   "cell_type": "code",
   "execution_count": 8,
   "metadata": {},
   "outputs": [
    {
     "data": {
      "text/plain": [
       "b'{\"batchcomplete\":\"\",\"query\":{\"categorymembers\":[{\"pageid\":54972729,\"ns\":2,\"title\":\"User:CustIntelMngt/sandbox/Customer Intelligence Management\"},{\"pageid\":43385931,\"ns\":0,\"title\":\"Data exploration\"},{\"pageid\":49082762,\"ns\":0,\"title\":\"List of datasets for machine learning research\"},{\"pageid\":233488,\"ns\":0,\"title\":\"Machine learning\"},{\"pageid\":53587467,\"ns\":0,\"title\":\"Outline of machine learning\"},{\"pageid\":3771060,\"ns\":0,\"title\":\"Accuracy paradox\"},{\"pageid\":43808044,\"ns\":0,\"title\":\"Action model learning\"},{\"pageid\":28801798,\"ns\":0,\"title\":\"Active learning (machine learning)\"},{\"pageid\":45049676,\"ns\":0,\"title\":\"Adversarial machine learning\"},{\"pageid\":52642349,\"ns\":0,\"title\":\"AIVA\"},{\"pageid\":30511763,\"ns\":0,\"title\":\"AIXI\"},{\"pageid\":50773876,\"ns\":0,\"title\":\"Algorithm Selection\"},{\"pageid\":20890511,\"ns\":0,\"title\":\"Algorithmic inference\"},{\"pageid\":49242352,\"ns\":0,\"title\":\"AlphaGo\"},{\"pageid\":19463198,\"ns\":0,\"title\":\"Apprenticeship learning\"},{\"pageid\":14003441,\"ns\":0,\"title\":\"Bag-of-words model\"},{\"pageid\":31877832,\"ns\":0,\"title\":\"Ball tree\"},{\"pageid\":9732182,\"ns\":0,\"title\":\"Base rate\"},{\"pageid\":35867897,\"ns\":0,\"title\":\"Bayesian interpretation of kernel regularization\"},{\"pageid\":40973765,\"ns\":0,\"title\":\"Bayesian optimization\"},{\"pageid\":50211107,\"ns\":0,\"title\":\"Bayesian structural time series\"},{\"pageid\":40678189,\"ns\":0,\"title\":\"Bias\\\\u2013variance tradeoff\"},{\"pageid\":205393,\"ns\":0,\"title\":\"Binary classification\"},{\"pageid\":50646178,\"ns\":0,\"title\":\"Bing Predicts\"},{\"pageid\":1191936,\"ns\":0,\"title\":\"Bongard problem\"},{\"pageid\":44439173,\"ns\":0,\"title\":\"Bradley\\\\u2013Terry model\"},{\"pageid\":53631046,\"ns\":0,\"title\":\"Caffe (software)\"},{\"pageid\":39182554,\"ns\":0,\"title\":\"Catastrophic interference\"},{\"pageid\":8964665,\"ns\":0,\"title\":\"Category utility\"},{\"pageid\":17114678,\"ns\":0,\"title\":\"CBCL (MIT)\"},{\"pageid\":22795783,\"ns\":0,\"title\":\"CIML community portal\"},{\"pageid\":28650287,\"ns\":0,\"title\":\"Cleverbot\"},{\"pageid\":2934910,\"ns\":0,\"title\":\"Cognitive robotics\"},{\"pageid\":9583985,\"ns\":0,\"title\":\"Committee machine\"},{\"pageid\":387537,\"ns\":0,\"title\":\"Computational learning theory\"},{\"pageid\":3118600,\"ns\":0,\"title\":\"Concept drift\"},{\"pageid\":6968451,\"ns\":0,\"title\":\"Concept learning\"},{\"pageid\":4118276,\"ns\":0,\"title\":\"Conditional random field\"},{\"pageid\":847558,\"ns\":0,\"title\":\"Confusion matrix\"},{\"pageid\":54550729,\"ns\":0,\"title\":\"Connectionist Temporal Classification (CTC)\"},{\"pageid\":28255458,\"ns\":0,\"title\":\"Constrained conditional model\"},{\"pageid\":34042707,\"ns\":0,\"title\":\"Coupled pattern learner\"},{\"pageid\":5767980,\"ns\":0,\"title\":\"Cross-entropy method\"},{\"pageid\":416612,\"ns\":0,\"title\":\"Cross-validation (statistics)\"},{\"pageid\":787776,\"ns\":0,\"title\":\"Curse of dimensionality\"},{\"pageid\":49316492,\"ns\":0,\"title\":\"Darkforest\"},{\"pageid\":12386904,\"ns\":0,\"title\":\"Data pre-processing\"},{\"pageid\":51112472,\"ns\":0,\"title\":\"Dataiku\"},{\"pageid\":19317802,\"ns\":0,\"title\":\"Decision list\"},{\"pageid\":48290454,\"ns\":0,\"title\":\"Deep feature synthesis\"},{\"pageid\":43169442,\"ns\":0,\"title\":\"Deeplearning4j\"},{\"pageid\":41755648,\"ns\":0,\"title\":\"DeepMind\"},{\"pageid\":1422176,\"ns\":0,\"title\":\"Developmental robotics\"},{\"pageid\":579867,\"ns\":0,\"title\":\"Dimensionality reduction\"},{\"pageid\":12155912,\"ns\":0,\"title\":\"Discriminative model\"},{\"pageid\":1331441,\"ns\":0,\"title\":\"Document classification\"},{\"pageid\":45390860,\"ns\":0,\"title\":\"Domain adaptation\"},{\"pageid\":10747995,\"ns\":0,\"title\":\"Eager learning\"},{\"pageid\":213214,\"ns\":0,\"title\":\"Early stopping\"},{\"pageid\":13750669,\"ns\":0,\"title\":\"Elastic matching\"},{\"pageid\":1455062,\"ns\":0,\"title\":\"Empirical risk minimization\"},{\"pageid\":52003586,\"ns\":0,\"title\":\"End-to-end reinforcement learning\"},{\"pageid\":12304987,\"ns\":0,\"title\":\"Ensembles of classifiers\"},{\"pageid\":48833041,\"ns\":0,\"title\":\"Error Tolerance (PAC learning)\"},{\"pageid\":43218024,\"ns\":0,\"title\":\"Evaluation of binary classifiers\"},{\"pageid\":460689,\"ns\":0,\"title\":\"Evolutionary programming\"},{\"pageid\":8416103,\"ns\":0,\"title\":\"Evolvability (computer science)\"},{\"pageid\":14923880,\"ns\":0,\"title\":\"Expectation propagation\"},{\"pageid\":21638340,\"ns\":0,\"title\":\"Explanation-based learning\"},{\"pageid\":1299404,\"ns\":0,\"title\":\"Feature (machine learning)\"},{\"pageid\":46207323,\"ns\":0,\"title\":\"Feature engineering\"},{\"pageid\":36126852,\"ns\":0,\"title\":\"Feature hashing\"},{\"pageid\":38870173,\"ns\":0,\"title\":\"Feature learning\"},{\"pageid\":34061548,\"ns\":0,\"title\":\"Feature scaling\"},{\"pageid\":2085584,\"ns\":0,\"title\":\"Feature vector\"},{\"pageid\":313845,\"ns\":0,\"title\":\"Formal concept analysis\"},{\"pageid\":1222578,\"ns\":0,\"title\":\"Generative model\"},{\"pageid\":40254,\"ns\":0,\"title\":\"Genetic algorithm\"},{\"pageid\":50336055,\"ns\":0,\"title\":\"Glossary of artificial intelligence\"},{\"pageid\":4375576,\"ns\":0,\"title\":\"Grammar induction\"},{\"pageid\":1041204,\"ns\":0,\"title\":\"Granular computing\"},{\"pageid\":32402755,\"ns\":0,\"title\":\"Hyperparameter (machine learning)\"},{\"pageid\":5008963,\"ns\":0,\"title\":\"Inauthentic text\"},{\"pageid\":173926,\"ns\":0,\"title\":\"Inductive bias\"},{\"pageid\":42579971,\"ns\":0,\"title\":\"Inductive probability\"},{\"pageid\":41644056,\"ns\":0,\"title\":\"Inductive programming\"},{\"pageid\":33762888,\"ns\":0,\"title\":\"Inferential theory of learning\"},{\"pageid\":53279262,\"ns\":0,\"title\":\"Instance selection\"},{\"pageid\":22589574,\"ns\":0,\"title\":\"Instance-based learning\"},{\"pageid\":470314,\"ns\":0,\"title\":\"Instantaneously trained neural networks\"},{\"pageid\":48987892,\"ns\":0,\"title\":\"Isotropic position\"},{\"pageid\":5721283,\"ns\":0,\"title\":\"Journal of Machine Learning Research\"},{\"pageid\":2090057,\"ns\":0,\"title\":\"Kernel density estimation\"},{\"pageid\":41370976,\"ns\":0,\"title\":\"Kernel embedding of distributions\"},{\"pageid\":46798615,\"ns\":0,\"title\":\"Kernel random forest\"},{\"pageid\":4144848,\"ns\":0,\"title\":\"Knowledge integration\"},{\"pageid\":43688866,\"ns\":0,\"title\":\"Knowledge Vault\"},{\"pageid\":54033657,\"ns\":0,\"title\":\"Labeled data\"},{\"pageid\":28037054,\"ns\":0,\"title\":\"Large margin nearest neighbor\"},{\"pageid\":10747879,\"ns\":0,\"title\":\"Lazy learning\"},{\"pageid\":48827727,\"ns\":0,\"title\":\"Learnable function class\"},{\"pageid\":3274742,\"ns\":0,\"title\":\"Learning automata\"},{\"pageid\":25050663,\"ns\":0,\"title\":\"Learning to rank\"},{\"pageid\":23864530,\"ns\":0,\"title\":\"Learning with errors\"},{\"pageid\":33890474,\"ns\":0,\"title\":\"Leave-one-out error\"},{\"pageid\":35272263,\"ns\":0,\"title\":\"Linear predictor function\"},{\"pageid\":523173,\"ns\":0,\"title\":\"Linear separability\"},{\"pageid\":46963137,\"ns\":0,\"title\":\"Local case-control sampling\"},{\"pageid\":53047074,\"ns\":2,\"title\":\"User:Luca Innocenti/sandbox\"},{\"pageid\":44632031,\"ns\":0,\"title\":\"M-Theory (learning framework)\"},{\"pageid\":45378845,\"ns\":0,\"title\":\"Logic learning machine\"},{\"pageid\":5721403,\"ns\":0,\"title\":\"Machine Learning (journal)\"},{\"pageid\":53802271,\"ns\":0,\"title\":\"Machine learning control\"},{\"pageid\":53970843,\"ns\":0,\"title\":\"Machine learning in bioinformatics\"},{\"pageid\":48777199,\"ns\":0,\"title\":\"Manifold regularization\"},{\"pageid\":53049812,\"ns\":2,\"title\":\"User:Maria Schuld/sandbox\"},{\"pageid\":47937215,\"ns\":0,\"title\":\"The Master Algorithm\"},{\"pageid\":44628821,\"ns\":0,\"title\":\"Matrix regularization\"},{\"pageid\":12306500,\"ns\":0,\"title\":\"Matthews correlation coefficient\"},{\"pageid\":4615464,\"ns\":0,\"title\":\"Meta learning (computer science)\"},{\"pageid\":871681,\"ns\":0,\"title\":\"Mixture model\"},{\"pageid\":33998310,\"ns\":0,\"title\":\"Mountain Car\"},{\"pageid\":49786340,\"ns\":0,\"title\":\"Movidius\"},{\"pageid\":2854828,\"ns\":0,\"title\":\"Multi-armed bandit\"},{\"pageid\":938663,\"ns\":0,\"title\":\"Multi-task learning\"},{\"pageid\":30928751,\"ns\":0,\"title\":\"Multilinear principal component analysis\"},{\"pageid\":30909817,\"ns\":0,\"title\":\"Multilinear subspace learning\"},{\"pageid\":48841414,\"ns\":0,\"title\":\"Multiple instance learning\"},{\"pageid\":14082194,\"ns\":0,\"title\":\"Multiple-instance learning\"},{\"pageid\":52242050,\"ns\":0,\"title\":\"Multiplicative Weight Update Method\"},{\"pageid\":18475546,\"ns\":0,\"title\":\"Multivariate adaptive regression splines\"},{\"pageid\":48976249,\"ns\":0,\"title\":\"MysteryVibe\"},{\"pageid\":45627703,\"ns\":0,\"title\":\"Native-language identification\"},{\"pageid\":7309022,\"ns\":0,\"title\":\"Nearest neighbor search\"},{\"pageid\":19208664,\"ns\":0,\"title\":\"Neural modeling fields\"},{\"pageid\":44577560,\"ns\":0,\"title\":\"Occam learning\"},{\"pageid\":10748030,\"ns\":0,\"title\":\"Offline learning\"},{\"pageid\":42129549,\"ns\":0,\"title\":\"OpenNN\"},{\"pageid\":173332,\"ns\":0,\"title\":\"Overfitting\"},{\"pageid\":23864280,\"ns\":0,\"title\":\"Parity learning\"},{\"pageid\":40946774,\"ns\":0,\"title\":\"Pattern language (formal languages)\"},{\"pageid\":126706,\"ns\":0,\"title\":\"Pattern recognition\"},{\"pageid\":2291650,\"ns\":0,\"title\":\"Predictive learning\"},{\"pageid\":11360852,\"ns\":0,\"title\":\"Predictive state representation\"},{\"pageid\":34072838,\"ns\":0,\"title\":\"Preference learning\"},{\"pageid\":6881120,\"ns\":0,\"title\":\"Prior knowledge for pattern recognition\"},{\"pageid\":21985449,\"ns\":0,\"title\":\"Proactive learning\"},{\"pageid\":9731945,\"ns\":0,\"title\":\"Probability matching\"},{\"pageid\":24825162,\"ns\":0,\"title\":\"Product of experts\"},{\"pageid\":41200806,\"ns\":0,\"title\":\"Proximal gradient methods for learning\"},{\"pageid\":41732818,\"ns\":0,\"title\":\"Qloo\"},{\"pageid\":44108758,\"ns\":0,\"title\":\"Quantum machine learning\"},{\"pageid\":41929726,\"ns\":0,\"title\":\"Query level feature\"},{\"pageid\":14529261,\"ns\":0,\"title\":\"Rademacher complexity\"},{\"pageid\":37697003,\"ns\":0,\"title\":\"Random indexing\"},{\"pageid\":43932548,\"ns\":0,\"title\":\"Random projection\"},{\"pageid\":926722,\"ns\":0,\"title\":\"Relational data mining\"},{\"pageid\":35887507,\"ns\":0,\"title\":\"Representer theorem\"},{\"pageid\":54625345,\"ns\":0,\"title\":\"Right to explanation\"},{\"pageid\":38782554,\"ns\":0,\"title\":\"RoboEarth\"},{\"pageid\":3290880,\"ns\":0,\"title\":\"Robot learning\"},{\"pageid\":7517319,\"ns\":0,\"title\":\"Rule induction\"},{\"pageid\":43269516,\"ns\":0,\"title\":\"Sample complexity\"},{\"pageid\":995455,\"ns\":0,\"title\":\"Savi Technology\"},{\"pageid\":14271782,\"ns\":0,\"title\":\"Semantic analysis (machine learning)\"},{\"pageid\":50222574,\"ns\":0,\"title\":\"Semantic folding\"},{\"pageid\":2829632,\"ns\":0,\"title\":\"Semi-supervised learning\"},{\"pageid\":29288159,\"ns\":0,\"title\":\"Sequence labeling\"},{\"pageid\":38059657,\"ns\":0,\"title\":\"Similarity learning\"},{\"pageid\":47509138,\"ns\":0,\"title\":\"Skymind\"},{\"pageid\":405562,\"ns\":0,\"title\":\"Solomonoff\\'s theory of inductive inference\"},{\"pageid\":48813654,\"ns\":0,\"title\":\"Sparse dictionary learning\"},{\"pageid\":50227596,\"ns\":0,\"title\":\"Spike-and-slab variable selection\"},{\"pageid\":33886025,\"ns\":0,\"title\":\"Stability (learning theory)\"},{\"pageid\":1579244,\"ns\":0,\"title\":\"Statistical classification\"},{\"pageid\":1053303,\"ns\":0,\"title\":\"Statistical learning theory\"},{\"pageid\":19667111,\"ns\":0,\"title\":\"Statistical relational learning\"},{\"pageid\":47845063,\"ns\":0,\"title\":\"Stochastic block model\"},{\"pageid\":10704974,\"ns\":0,\"title\":\"Structural risk minimization\"},{\"pageid\":48844125,\"ns\":0,\"title\":\"Structured sparsity regularization\"},{\"pageid\":3119546,\"ns\":0,\"title\":\"Subclass reachability\"},{\"pageid\":20926,\"ns\":0,\"title\":\"Supervised learning\"},{\"pageid\":1514392,\"ns\":0,\"title\":\"Test set\"},{\"pageid\":50828755,\"ns\":0,\"title\":\"Timeline of machine learning\"},{\"pageid\":960361,\"ns\":0,\"title\":\"Transduction (machine learning)\"},{\"pageid\":3920550,\"ns\":0,\"title\":\"Transfer learning\"},{\"pageid\":47577902,\"ns\":0,\"title\":\"Trax Image Recognition\"},{\"pageid\":5077439,\"ns\":0,\"title\":\"Ugly duckling theorem\"},{\"pageid\":19058043,\"ns\":0,\"title\":\"Uncertain data\"},{\"pageid\":22999791,\"ns\":0,\"title\":\"Uniform convergence in probability\"},{\"pageid\":37787103,\"ns\":0,\"title\":\"Universal portfolio algorithm\"},{\"pageid\":233497,\"ns\":0,\"title\":\"Unsupervised learning\"},{\"pageid\":47228422,\"ns\":0,\"title\":\"User behavior analytics\"},{\"pageid\":39945557,\"ns\":0,\"title\":\"Validation set\"},{\"pageid\":43502368,\"ns\":0,\"title\":\"Vanishing gradient problem\"},{\"pageid\":7578809,\"ns\":0,\"title\":\"Version space learning\"},{\"pageid\":52992310,\"ns\":0,\"title\":\"VGG Image Annotator\"},{\"pageid\":47527969,\"ns\":0,\"title\":\"Word2vec\"},{\"pageid\":33547387,\"ns\":14,\"title\":\"Category:Applied machine learning\"},{\"pageid\":42936114,\"ns\":14,\"title\":\"Category:Artificial neural networks\"},{\"pageid\":1718975,\"ns\":14,\"title\":\"Category:Bayesian networks\"},{\"pageid\":1991254,\"ns\":14,\"title\":\"Category:Classification algorithms\"},{\"pageid\":22532673,\"ns\":14,\"title\":\"Category:Cluster analysis\"},{\"pageid\":34310097,\"ns\":14,\"title\":\"Category:Computational learning theory\"},{\"pageid\":12932492,\"ns\":14,\"title\":\"Category:Artificial intelligence conferences\"},{\"pageid\":33542714,\"ns\":14,\"title\":\"Category:Data mining and machine learning software\"},{\"pageid\":42320378,\"ns\":14,\"title\":\"Category:Datasets in machine learning\"},{\"pageid\":29549713,\"ns\":14,\"title\":\"Category:Dimension reduction\"},{\"pageid\":3985352,\"ns\":14,\"title\":\"Category:Ensemble learning\"},{\"pageid\":754055,\"ns\":14,\"title\":\"Category:Evolutionary algorithms\"},{\"pageid\":3061615,\"ns\":14,\"title\":\"Category:Genetic programming\"},{\"pageid\":29003796,\"ns\":14,\"title\":\"Category:Inductive logic programming\"},{\"pageid\":12535256,\"ns\":14,\"title\":\"Category:Kernel methods for machine learning\"},{\"pageid\":20924581,\"ns\":14,\"title\":\"Category:Latent variable models\"},{\"pageid\":19314112,\"ns\":14,\"title\":\"Category:Learning in computer vision\"},{\"pageid\":36407925,\"ns\":14,\"title\":\"Category:Log-linear models\"},{\"pageid\":28004586,\"ns\":14,\"title\":\"Category:Loss functions\"},{\"pageid\":33547228,\"ns\":14,\"title\":\"Category:Machine learning algorithms\"},{\"pageid\":44943481,\"ns\":14,\"title\":\"Category:Machine learning portal\"},{\"pageid\":47991509,\"ns\":14,\"title\":\"Category:Machine learning task\"},{\"pageid\":24059390,\"ns\":14,\"title\":\"Category:Markov models\"},{\"pageid\":3832584,\"ns\":14,\"title\":\"Category:Machine learning researchers\"},{\"pageid\":52763829,\"ns\":14,\"title\":\"Category:Semisupervised learning\"},{\"pageid\":11737376,\"ns\":14,\"title\":\"Category:Statistical natural language processing\"},{\"pageid\":40149461,\"ns\":14,\"title\":\"Category:Structured prediction\"},{\"pageid\":52763867,\"ns\":14,\"title\":\"Category:Supervised learning\"},{\"pageid\":31176997,\"ns\":14,\"title\":\"Category:Support vector machines\"},{\"pageid\":52763828,\"ns\":14,\"title\":\"Category:Unsupervised learning\"}]}}'"
      ]
     },
     "execution_count": 8,
     "metadata": {},
     "output_type": "execute_result"
    }
   ],
   "source": [
    "response.content"
   ]
  },
  {
   "cell_type": "code",
   "execution_count": 9,
   "metadata": {
    "collapsed": true
   },
   "outputs": [],
   "source": [
    "response_json = response.json()"
   ]
  },
  {
   "cell_type": "code",
   "execution_count": 10,
   "metadata": {},
   "outputs": [
    {
     "name": "stdout",
     "output_type": "stream",
     "text": [
      "54972729 User:CustIntelMngt/sandbox/Customer Intelligence Management\n",
      "43385931 Data exploration\n",
      "49082762 List of datasets for machine learning research\n",
      "233488 Machine learning\n",
      "53587467 Outline of machine learning\n",
      "3771060 Accuracy paradox\n",
      "43808044 Action model learning\n",
      "28801798 Active learning (machine learning)\n",
      "45049676 Adversarial machine learning\n",
      "52642349 AIVA\n",
      "30511763 AIXI\n",
      "50773876 Algorithm Selection\n",
      "20890511 Algorithmic inference\n",
      "49242352 AlphaGo\n",
      "19463198 Apprenticeship learning\n",
      "14003441 Bag-of-words model\n",
      "31877832 Ball tree\n",
      "9732182 Base rate\n",
      "35867897 Bayesian interpretation of kernel regularization\n",
      "40973765 Bayesian optimization\n",
      "50211107 Bayesian structural time series\n",
      "40678189 Bias–variance tradeoff\n",
      "205393 Binary classification\n",
      "50646178 Bing Predicts\n",
      "1191936 Bongard problem\n",
      "44439173 Bradley–Terry model\n",
      "53631046 Caffe (software)\n",
      "39182554 Catastrophic interference\n",
      "8964665 Category utility\n",
      "17114678 CBCL (MIT)\n",
      "22795783 CIML community portal\n",
      "28650287 Cleverbot\n",
      "2934910 Cognitive robotics\n",
      "9583985 Committee machine\n",
      "387537 Computational learning theory\n",
      "3118600 Concept drift\n",
      "6968451 Concept learning\n",
      "4118276 Conditional random field\n",
      "847558 Confusion matrix\n",
      "54550729 Connectionist Temporal Classification (CTC)\n",
      "28255458 Constrained conditional model\n",
      "34042707 Coupled pattern learner\n",
      "5767980 Cross-entropy method\n",
      "416612 Cross-validation (statistics)\n",
      "787776 Curse of dimensionality\n",
      "49316492 Darkforest\n",
      "12386904 Data pre-processing\n",
      "51112472 Dataiku\n",
      "19317802 Decision list\n",
      "48290454 Deep feature synthesis\n",
      "43169442 Deeplearning4j\n",
      "41755648 DeepMind\n",
      "1422176 Developmental robotics\n",
      "579867 Dimensionality reduction\n",
      "12155912 Discriminative model\n",
      "1331441 Document classification\n",
      "45390860 Domain adaptation\n",
      "10747995 Eager learning\n",
      "213214 Early stopping\n",
      "13750669 Elastic matching\n",
      "1455062 Empirical risk minimization\n",
      "52003586 End-to-end reinforcement learning\n",
      "12304987 Ensembles of classifiers\n",
      "48833041 Error Tolerance (PAC learning)\n",
      "43218024 Evaluation of binary classifiers\n",
      "460689 Evolutionary programming\n",
      "8416103 Evolvability (computer science)\n",
      "14923880 Expectation propagation\n",
      "21638340 Explanation-based learning\n",
      "1299404 Feature (machine learning)\n",
      "46207323 Feature engineering\n",
      "36126852 Feature hashing\n",
      "38870173 Feature learning\n",
      "34061548 Feature scaling\n",
      "2085584 Feature vector\n",
      "313845 Formal concept analysis\n",
      "1222578 Generative model\n",
      "40254 Genetic algorithm\n",
      "50336055 Glossary of artificial intelligence\n",
      "4375576 Grammar induction\n",
      "1041204 Granular computing\n",
      "32402755 Hyperparameter (machine learning)\n",
      "5008963 Inauthentic text\n",
      "173926 Inductive bias\n",
      "42579971 Inductive probability\n",
      "41644056 Inductive programming\n",
      "33762888 Inferential theory of learning\n",
      "53279262 Instance selection\n",
      "22589574 Instance-based learning\n",
      "470314 Instantaneously trained neural networks\n",
      "48987892 Isotropic position\n",
      "5721283 Journal of Machine Learning Research\n",
      "2090057 Kernel density estimation\n",
      "41370976 Kernel embedding of distributions\n",
      "46798615 Kernel random forest\n",
      "4144848 Knowledge integration\n",
      "43688866 Knowledge Vault\n",
      "54033657 Labeled data\n",
      "28037054 Large margin nearest neighbor\n",
      "10747879 Lazy learning\n",
      "48827727 Learnable function class\n",
      "3274742 Learning automata\n",
      "25050663 Learning to rank\n",
      "23864530 Learning with errors\n",
      "33890474 Leave-one-out error\n",
      "35272263 Linear predictor function\n",
      "523173 Linear separability\n",
      "46963137 Local case-control sampling\n",
      "53047074 User:Luca Innocenti/sandbox\n",
      "44632031 M-Theory (learning framework)\n",
      "45378845 Logic learning machine\n",
      "5721403 Machine Learning (journal)\n",
      "53802271 Machine learning control\n",
      "53970843 Machine learning in bioinformatics\n",
      "48777199 Manifold regularization\n",
      "53049812 User:Maria Schuld/sandbox\n",
      "47937215 The Master Algorithm\n",
      "44628821 Matrix regularization\n",
      "12306500 Matthews correlation coefficient\n",
      "4615464 Meta learning (computer science)\n",
      "871681 Mixture model\n",
      "33998310 Mountain Car\n",
      "49786340 Movidius\n",
      "2854828 Multi-armed bandit\n",
      "938663 Multi-task learning\n",
      "30928751 Multilinear principal component analysis\n",
      "30909817 Multilinear subspace learning\n",
      "48841414 Multiple instance learning\n",
      "14082194 Multiple-instance learning\n",
      "52242050 Multiplicative Weight Update Method\n",
      "18475546 Multivariate adaptive regression splines\n",
      "48976249 MysteryVibe\n",
      "45627703 Native-language identification\n",
      "7309022 Nearest neighbor search\n",
      "19208664 Neural modeling fields\n",
      "44577560 Occam learning\n",
      "10748030 Offline learning\n",
      "42129549 OpenNN\n",
      "173332 Overfitting\n",
      "23864280 Parity learning\n",
      "40946774 Pattern language (formal languages)\n",
      "126706 Pattern recognition\n",
      "2291650 Predictive learning\n",
      "11360852 Predictive state representation\n",
      "34072838 Preference learning\n",
      "6881120 Prior knowledge for pattern recognition\n",
      "21985449 Proactive learning\n",
      "9731945 Probability matching\n",
      "24825162 Product of experts\n",
      "41200806 Proximal gradient methods for learning\n",
      "41732818 Qloo\n",
      "44108758 Quantum machine learning\n",
      "41929726 Query level feature\n",
      "14529261 Rademacher complexity\n",
      "37697003 Random indexing\n",
      "43932548 Random projection\n",
      "926722 Relational data mining\n",
      "35887507 Representer theorem\n",
      "54625345 Right to explanation\n",
      "38782554 RoboEarth\n",
      "3290880 Robot learning\n",
      "7517319 Rule induction\n",
      "43269516 Sample complexity\n",
      "995455 Savi Technology\n",
      "14271782 Semantic analysis (machine learning)\n",
      "50222574 Semantic folding\n",
      "2829632 Semi-supervised learning\n",
      "29288159 Sequence labeling\n",
      "38059657 Similarity learning\n",
      "47509138 Skymind\n",
      "405562 Solomonoff's theory of inductive inference\n",
      "48813654 Sparse dictionary learning\n",
      "50227596 Spike-and-slab variable selection\n",
      "33886025 Stability (learning theory)\n",
      "1579244 Statistical classification\n",
      "1053303 Statistical learning theory\n",
      "19667111 Statistical relational learning\n",
      "47845063 Stochastic block model\n",
      "10704974 Structural risk minimization\n",
      "48844125 Structured sparsity regularization\n",
      "3119546 Subclass reachability\n",
      "20926 Supervised learning\n",
      "1514392 Test set\n",
      "50828755 Timeline of machine learning\n",
      "960361 Transduction (machine learning)\n",
      "3920550 Transfer learning\n",
      "47577902 Trax Image Recognition\n",
      "5077439 Ugly duckling theorem\n",
      "19058043 Uncertain data\n",
      "22999791 Uniform convergence in probability\n",
      "37787103 Universal portfolio algorithm\n",
      "233497 Unsupervised learning\n",
      "47228422 User behavior analytics\n",
      "39945557 Validation set\n",
      "43502368 Vanishing gradient problem\n",
      "7578809 Version space learning\n",
      "52992310 VGG Image Annotator\n",
      "47527969 Word2vec\n",
      "33547387 Category:Applied machine learning\n",
      "42936114 Category:Artificial neural networks\n",
      "1718975 Category:Bayesian networks\n",
      "1991254 Category:Classification algorithms\n",
      "22532673 Category:Cluster analysis\n",
      "34310097 Category:Computational learning theory\n",
      "12932492 Category:Artificial intelligence conferences\n",
      "33542714 Category:Data mining and machine learning software\n",
      "42320378 Category:Datasets in machine learning\n",
      "29549713 Category:Dimension reduction\n",
      "3985352 Category:Ensemble learning\n",
      "754055 Category:Evolutionary algorithms\n",
      "3061615 Category:Genetic programming\n",
      "29003796 Category:Inductive logic programming\n",
      "12535256 Category:Kernel methods for machine learning\n",
      "20924581 Category:Latent variable models\n",
      "19314112 Category:Learning in computer vision\n",
      "36407925 Category:Log-linear models\n",
      "28004586 Category:Loss functions\n",
      "33547228 Category:Machine learning algorithms\n",
      "44943481 Category:Machine learning portal\n",
      "47991509 Category:Machine learning task\n",
      "24059390 Category:Markov models\n",
      "3832584 Category:Machine learning researchers\n",
      "52763829 Category:Semisupervised learning\n",
      "11737376 Category:Statistical natural language processing\n",
      "40149461 Category:Structured prediction\n",
      "52763867 Category:Supervised learning\n",
      "31176997 Category:Support vector machines\n",
      "52763828 Category:Unsupervised learning\n"
     ]
    }
   ],
   "source": [
    "for entry in response_json['query']['categorymembers']:\n",
    "    print(entry[\"pageid\"], entry[\"title\"])\n",
    "    "
   ]
  },
  {
   "cell_type": "code",
   "execution_count": 11,
   "metadata": {},
   "outputs": [
    {
     "data": {
      "text/plain": [
       "dict_keys(['batchcomplete', 'query'])"
      ]
     },
     "execution_count": 11,
     "metadata": {},
     "output_type": "execute_result"
    }
   ],
   "source": [
    "response_json.keys()"
   ]
  },
  {
   "cell_type": "code",
   "execution_count": 12,
   "metadata": {},
   "outputs": [
    {
     "name": "stdout",
     "output_type": "stream",
     "text": [
      "Collecting wikipedia\n",
      "Requirement already satisfied: requests<3.0.0,>=2.0.0 in /opt/conda/lib/python3.6/site-packages (from wikipedia)\n",
      "Requirement already satisfied: beautifulsoup4 in /opt/conda/lib/python3.6/site-packages (from wikipedia)\n",
      "Requirement already satisfied: chardet<3.1.0,>=3.0.2 in /opt/conda/lib/python3.6/site-packages (from requests<3.0.0,>=2.0.0->wikipedia)\n",
      "Requirement already satisfied: idna<2.6,>=2.5 in /opt/conda/lib/python3.6/site-packages (from requests<3.0.0,>=2.0.0->wikipedia)\n",
      "Requirement already satisfied: urllib3<1.22,>=1.21.1 in /opt/conda/lib/python3.6/site-packages (from requests<3.0.0,>=2.0.0->wikipedia)\n",
      "Requirement already satisfied: certifi>=2017.4.17 in /opt/conda/lib/python3.6/site-packages (from requests<3.0.0,>=2.0.0->wikipedia)\n",
      "Installing collected packages: wikipedia\n",
      "Successfully installed wikipedia-1.4.0\n",
      "Wikipedia ( WIK-i-PEE-dee-ə or  WIK-ee-PEE-dee-ə) is a free online encyclopedia with the aim to allow anyone to edit articles. Wikipedia is the largest and most popular general reference work on the Internet and is ranked among the ten most popular websites. Wikipedia is owned by the nonprofit Wikimedia Foundation.\n",
      "Wikipedia was launched on January 15, 2001, by Jimmy Wales and Larry Sanger. Sanger coined its name, a portmanteau of wiki and encyclopedia. There was only the English-language version initially, but it quickly developed similar versions in other languages, which differ in content and in editing practices. With 5,464,441 articles, the English Wikipedia is the largest of the more than 290 Wikipedia encyclopedias. Overall, Wikipedia consists of more than 40 million articles in more than 250 different languages and, as of February 2014, it had 18 billion page views and nearly 500 million unique visitors each month.\n",
      "As of March 2017, Wikipedia has about forty thousand high-quality articles known as Featured Articles and Good Articles that cover vital topics. In 2005, Nature published a peer review comparing 42 science articles from Encyclopædia Britannica and Wikipedia, and found that Wikipedia's level of accuracy approached that of Encyclopædia Britannica.\n",
      "Wikipedia has been criticized for allegedly exhibiting systemic bias, presenting a mixture of \"truths, half truths, and some falsehoods\", and, in controversial topics, being subject to manipulation and spin.\n"
     ]
    }
   ],
   "source": [
    "!pip install wikipedia\n",
    "import wikipedia\n",
    "print(wikipedia.summary(\"Wikipedia\"))"
   ]
  },
  {
   "cell_type": "code",
   "execution_count": 14,
   "metadata": {
    "collapsed": true
   },
   "outputs": [],
   "source": [
    "text = wikipedia.search('Machine learning')"
   ]
  },
  {
   "cell_type": "code",
   "execution_count": null,
   "metadata": {
    "collapsed": true
   },
   "outputs": [],
   "source": []
  },
  {
   "cell_type": "markdown",
   "metadata": {},
   "source": [
    "POSTGRES TABLES\n",
    "\n",
    "We will want the following two tables:\n",
    "\n",
    "page\n",
    "- title\n",
    "- pageid\n",
    "- subheadings\n",
    "- notes\n",
    "\n",
    "category\n",
    "- category_id\n",
    "- title\n",
    "\n",
    "page-category\n",
    "- page_category_id\n",
    "- pageid\n",
    "- categoryid"
   ]
  },
  {
   "cell_type": "code",
   "execution_count": 15,
   "metadata": {
    "collapsed": true
   },
   "outputs": [],
   "source": [
    "base_url = \"https://en.wikipedia.org/w/api.php?action=query&prop=extracts&format=json&pageids=\"\n",
    "pageid = 1037763\n",
    "url = base_url + str(pageid)\n",
    "\n",
    "response_pag = requests.get(url)\n",
    "response_pag_json = response_pag.json()"
   ]
  },
  {
   "cell_type": "code",
   "execution_count": 16,
   "metadata": {},
   "outputs": [
    {
     "data": {
      "text/plain": [
       "{'batchcomplete': '',\n",
       " 'query': {'pages': {'1037763': {'extract': '<p><b>Business software</b> or a business application is any software or set of computer programs used by business users to perform various business functions. These business applications are used to increase productivity, to measure productivity and to perform other business functions accurately.</p>\\n<p>By and large, business software is likely to be developed to meet the needs of a specific business, and therefore is not easily transferable to a different business environment, unless its nature and operation is identical. Due to the unique requirements of each business, off-the-shelf software is unlikely to completely address a company\\'s needs. However, where an on-the-shelf solution is necessary, due to time or monetary considerations, some level of customization is likely to be required. Exceptions do exist, depending on the business in question, and thorough research is always required before committing to bespoke or off-the-shelf solutions.</p>\\n<p>Some business applications are interactive, i.e., they have a graphical user interface or user interface and users can query/modify/input data and view results instantaneously. They can also run reports instantaneously. Some business applications run in batch mode: they are set up to run based on a predetermined event/time and a business user does not need to initiate them or monitor them.</p>\\n<p>Some business applications are built in-house and some are bought from vendors (off the shelf software products). These business applications are installed on either desktops or big servers. Prior to the introduction of COBOL (a universal compiler) in 1965, businesses developed their own unique machine language. RCA\\'s language consisted of a 12-position instruction. For example, to read a record into memory, the first two digits would be the instruction (action) code. The next four positions of the instruction (an \\'A\\' address) would be the exact leftmost memory location where you want the readable character to be placed. Four positions (a \\'B\\' address) of the instruction would note the very rightmost memory location where you want the last character of the record to be located. A two digit \\'B\\' address also allows a modification of any instruction. Instruction codes and memory designations excluded the use of 8\\'s or 9\\'s. The first RCA business application was implemented in 1962 on a 4k RCA 301. The RCA 301, mid frame 501, and large frame 601 began their marketing in early 1960.</p>\\n<p>Many kinds of users are found within the business environment, and can be categorized by using a small, medium and large matrix:</p>\\n<ul><li>The small business market generally consists of home accounting software, and office suites such as OpenOffice.org or Microsoft Office.</li>\\n<li>The medium size, or small and medium-sized enterprise (SME), has a broader range of software applications, ranging from accounting, groupware, customer relationship management, human resource management systems, outsourcing relationship management, loan origination software, shopping cart software, field service software, and other productivity enhancing applications.</li>\\n<li>The last segment covers enterprise level software applications, such as those in the fields of enterprise resource planning, enterprise content management (ECM), business process management (BPM) and product lifecycle management. These applications are extensive in scope, and often come with modules that either add native functions, or incorporate the functionality of third-party computer programs.</li>\\n</ul><p>Technologies that previously only existed in peer-to-peer software applications, like Kazaa and Napster, are starting to appear within business applications.</p>\\n<p></p>\\n\\n<p></p>\\n<h2><span id=\"Types_of_business_tools\">Types of business tools</span></h2>\\n<ul><li>Enterprise application software (EAS)</li>\\n<li>Resource Management</li>\\n<li>Digital dashboards, also known as business intelligence dashboards, enterprise dashboards, or executive dashboards. These are visually based summaries of business data that show at-a-glance understanding of conditions through metrics and key performance indicators (KPIs). Dashboards are a very popular tools that have arisen in the last few years.</li>\\n<li>Online analytical processing (OLAP), (which include HOLAP, ROLAP and MOLAP) - are a capability of some management, decision support, and executive information systems that support interactive examination of large amounts of data from many perspectives.</li>\\n<li>Reporting software generates aggregated views of data to keep the management informed about the state of their business.</li>\\n<li>Procurement software is business software that helps to automate the purchasing function of organizations.</li>\\n<li>Data mining is the extraction of consumer information from a database by utilizing software that can isolate and identify previously unknown patterns or trends in large amounts of data. There is a variety of data mining techniques that reveal different types of patterns. Some of the techniques that belong here are statistical methods (particularly business statistics) and neural networks, as very advanced means of analyzing data.</li>\\n<li>Business performance management (BPM)</li>\\n<li>Document management software is made for organizing and managing multiple documents of various types. Some of them have storage functions for security and back-up of valuable business information.</li>\\n<li>Employee scheduling software- used for creating and distributing employee schedules, as well as for tracking employee hours.</li>\\n</ul><h2><span id=\"Brief_history\">Brief history</span></h2>\\n<p>The essential motivation for business software is to increase profits by cutting costs or speeding the productive cycle. In the earliest days of white-collar business automation, large mainframe computers were used to tackle the most tedious jobs, like bank cheque clearing and factory accounting.</p>\\n<p>Factory accounting software was among the most popular of early business software tools, and included the automation of general ledgers, fixed assets inventory ledgers, cost accounting ledgers, accounts receivable ledgers, and accounts payable ledgers (including payroll, life insurance, health insurance, federal and state insurance and retirement).</p>\\n<p>The early use of software to replace manual white-collar labor was extremely profitable, and caused a radical shift in white-collar labor. One computer might easily replace 100 white-collar \\'pencil pushers\\', and the computer would not require any health or retirement benefits.</p>\\n<p>Building on these early successes with IBM, Hewlett-Packard and other early suppliers of business software solutions, corporate consumers demanded business software to replace the old-fashioned drafting board. CAD-CAM software (or computer-aided drafting for computer-aided manufacturing) arrived in the early 1980s. Also, project management software was so valued in the early 1980s that it might cost as much as $500,000 per copy (although such software typically had far fewer capabilities than modern project management software such as Microsoft Project, which one might purchase today for under $500 per copy.)</p>\\n<p>In the early days, perhaps the most noticeable, widespread change in business software was the word processor. Because of its rapid rise, the ubiquitous IBM typewriter suddenly vanished in the 1980s as millions of companies worldwide shifted to the use of Word Perfect business software, and later, Microsoft Word software. Another vastly popular computer program for business were mathematical spreadsheet programs such as Lotus 1-2-3, and later Microsoft Excel.</p>\\n<p>In the 1990s business shifted massively towards globalism with the appearance of SAP software which coordinates a supply-chain of vendors, potentially worldwide, for the most efficient, streamlined operation of factory manufacture.</p>\\n<p>Yet nothing in the history of business software has had the global impact of the Internet, with its email and websites that now serve commercial interests worldwide. Globalism in business fully arrived when the Internet became a household word.</p>\\n<h2><span id=\"Application_support\">Application support</span></h2>\\n<p>Business applications are built based on the requirements from the business users. Also, these business applications are built to use certain kind of Business transactions or data items. These business applications run flawlessly until there are no new business requirements or there is no change in underlying Business transactions. Also, the business applications run flawlessly if there are no issues with computer hardware, computer networks (Intenet/intranet), computer disks, power supplies, and various software components (middleware, database, computer programs, etc.).</p>\\n<p>Business applications can fail when an unexpected error occurs. This error could occur due to a data error (an unexpected data input or a wrong data input), an environment error (an in frastructure related error), a programming error, a human error or a work flow error. When a business application fails one needs to fix the business application error as soon as possible so that the business users can resume their work. This work of resolving business application errors is known as business application support.</p>\\n<h3><span id=\"Reporting_errors\">Reporting errors</span></h3>\\n<p>The Business User calls the business application support team phone number or sends an e-mail to the business application support team. The business application support team gets all the details of the error from the business user on the phone or from the e-mail. These details are then entered in a tracking software. The tracking software creates a request number and this request number is given to the business user. This request number is used to track the progress on the support issue. The request is assigned to a support team member.</p>\\n<h3><span id=\"Notification_of_errors\">Notification of errors</span></h3>\\n<p>For critical business application errors (such as an application not available or an application not working correctly), an e-mail is sent to the entire organization or impacted teams so that they are aware of the issue. They are also provided with an estimated time for application availability.</p>\\n<h3><span id=\"Investigation_or_analysis_of_application_errors\">Investigation or analysis of application errors</span></h3>\\n<p>The business application support team member collects all the necessary information about the business software error. This information is then recorded in the support request. All of the data used by the business user is also used in the investigation. The application program is reviewed for any possible programming errors.</p>\\n<h3><span id=\"Error_resolution\">Error resolution</span></h3>\\n<p>If any similar business application errors occurred in the past then the issue resolution steps are retrieved from the support knowledge base and the error is resolved using those steps. If it is a new support error, then new issue resolution steps are created and the error is resolved. The new support error resolution steps are recorded in the knowledge base for future use. For major business application errors (critical infrastructure or application failures), a phone conference call is initiated and all required support persons/teams join the call and they all work together to resolve the error.</p>\\n<h3><span id=\"Code_correction\">Code correction</span></h3>\\n<p>If the business application error occurred due to programming errors, then a request is created for the application development team to correct programming errors. If the business user needs new features or functions in the business application, then the required analysis/design/programming/testing/release is planned and a new version of the business software is deployed.</p>\\n<h3><span id=\"Business_process_correction\">Business process correction</span></h3>\\n<p>If the business application error occurred due to a work flow issue or human errors during data input, then the business users are notified. Business users then review their work flow and revise it if necessary. They also modify the user guide or user instructions to avoid such an error in the future.</p>\\n<h3><span id=\"Infrastructure_issue_correction\">Infrastructure issue correction</span></h3>\\n<p>If the business application error occurred due to infrastructure issues, then the specific infrastructure team is notified. The infrastructure team then implements permanent fixes for the issue and monitors the infrastructure to avoid the re-occurrence of the same error.</p>\\n<h2><span id=\"Support_follow_up_and_internal_reporting\">Support follow up and internal reporting</span></h2>\\n<p>The business application error tracking system is used to review all issues periodically (daily, weekly and monthly) and reports are generated to monitor the resolved issues, repeating issues, and pending issues. Reports are also generated for the IT/IS management for improvement and management of business applications.</p>\\n<h2><span id=\"See_also\">See also</span></h2>\\n\\n<h2><span id=\"References\">References</span></h2>\\n\\n<h2><span id=\"External_links\">External links</span></h2>',\n",
       "    'ns': 0,\n",
       "    'pageid': 1037763,\n",
       "    'title': 'Business software'}}},\n",
       " 'warnings': {'extracts': {'*': '\"exlimit\" was too large for a whole article extracts request, lowered to 1.'}}}"
      ]
     },
     "execution_count": 16,
     "metadata": {},
     "output_type": "execute_result"
    }
   ],
   "source": [
    "response_pag_json"
   ]
  },
  {
   "cell_type": "code",
   "execution_count": 17,
   "metadata": {},
   "outputs": [
    {
     "ename": "KeyError",
     "evalue": "'42579971'",
     "output_type": "error",
     "traceback": [
      "\u001b[0;31m---------------------------------------------------------------------------\u001b[0m",
      "\u001b[0;31mKeyError\u001b[0m                                  Traceback (most recent call last)",
      "\u001b[0;32m<ipython-input-17-2c6e6ea5e6c9>\u001b[0m in \u001b[0;36m<module>\u001b[0;34m()\u001b[0m\n\u001b[0;32m----> 1\u001b[0;31m \u001b[0mresponse_pag_json\u001b[0m\u001b[0;34m[\u001b[0m\u001b[0;34m'query'\u001b[0m\u001b[0;34m]\u001b[0m\u001b[0;34m[\u001b[0m\u001b[0;34m'pages'\u001b[0m\u001b[0;34m]\u001b[0m\u001b[0;34m[\u001b[0m\u001b[0;34m'42579971'\u001b[0m\u001b[0;34m]\u001b[0m\u001b[0;34m[\u001b[0m\u001b[0;34m'extract'\u001b[0m\u001b[0;34m]\u001b[0m\u001b[0;34m\u001b[0m\u001b[0m\n\u001b[0m",
      "\u001b[0;31mKeyError\u001b[0m: '42579971'"
     ]
    }
   ],
   "source": [
    "response_pag_json['query']['pages']['42579971']['extract']"
   ]
  },
  {
   "cell_type": "code",
   "execution_count": 5,
   "metadata": {},
   "outputs": [
    {
     "name": "stdout",
     "output_type": "stream",
     "text": [
      "Collecting psycopg2\n",
      "  Using cached psycopg2-2.7.3-cp36-cp36m-manylinux1_x86_64.whl\n",
      "Installing collected packages: psycopg2\n",
      "Successfully installed psycopg2-2.7.3\n"
     ]
    }
   ],
   "source": [
    "!pip install psycopg2"
   ]
  },
  {
   "cell_type": "code",
   "execution_count": 6,
   "metadata": {
    "collapsed": true
   },
   "outputs": [],
   "source": [
    "\n",
    "import psycopg2 as pg2\n",
    "from psycopg2.extras import RealDictCursor\n",
    "import pandas as pd\n",
    "\n",
    "def connect_to_db():\n",
    "    con = pg2.connect(host='postgres',\n",
    "                      dbname='postgres',\n",
    "                      user='postgres')\n",
    "    cur = con.cursor(cursor_factory=RealDictCursor)\n",
    "    return con, cur\n",
    "\n",
    "def query_to_dictionary(query, fetch_res=True):\n",
    "    con, cur = connect_to_db()\n",
    "    cur.execute(query)\n",
    "    if fetch_res:\n",
    "        results = cur.fetchall()\n",
    "    else:\n",
    "        results = None\n",
    "    con.close()\n",
    "    return results"
   ]
  },
  {
   "cell_type": "code",
   "execution_count": 7,
   "metadata": {
    "collapsed": true
   },
   "outputs": [],
   "source": [
    "connection, cursor = connect_to_db()"
   ]
  },
  {
   "cell_type": "code",
   "execution_count": 33,
   "metadata": {},
   "outputs": [
    {
     "data": {
      "text/html": [
       "<div>\n",
       "<table border=\"1\" class=\"dataframe\">\n",
       "  <thead>\n",
       "    <tr style=\"text-align: right;\">\n",
       "      <th></th>\n",
       "      <th>categoryid</th>\n",
       "      <th>parentcategory</th>\n",
       "      <th>title</th>\n",
       "    </tr>\n",
       "  </thead>\n",
       "  <tbody>\n",
       "    <tr>\n",
       "      <th>0</th>\n",
       "      <td>1</td>\n",
       "      <td>True</td>\n",
       "      <td>Business software                             ...</td>\n",
       "    </tr>\n",
       "    <tr>\n",
       "      <th>1</th>\n",
       "      <td>2</td>\n",
       "      <td>True</td>\n",
       "      <td>Machine learning                              ...</td>\n",
       "    </tr>\n",
       "    <tr>\n",
       "      <th>2</th>\n",
       "      <td>3</td>\n",
       "      <td>False</td>\n",
       "      <td>Applied machine learning                      ...</td>\n",
       "    </tr>\n",
       "    <tr>\n",
       "      <th>3</th>\n",
       "      <td>4</td>\n",
       "      <td>False</td>\n",
       "      <td>Artificial neural networks                    ...</td>\n",
       "    </tr>\n",
       "    <tr>\n",
       "      <th>4</th>\n",
       "      <td>5</td>\n",
       "      <td>False</td>\n",
       "      <td>Bayesian networks                             ...</td>\n",
       "    </tr>\n",
       "    <tr>\n",
       "      <th>5</th>\n",
       "      <td>6</td>\n",
       "      <td>False</td>\n",
       "      <td>Classification algorithms                     ...</td>\n",
       "    </tr>\n",
       "    <tr>\n",
       "      <th>6</th>\n",
       "      <td>7</td>\n",
       "      <td>False</td>\n",
       "      <td>Cluster analysis                              ...</td>\n",
       "    </tr>\n",
       "    <tr>\n",
       "      <th>7</th>\n",
       "      <td>8</td>\n",
       "      <td>False</td>\n",
       "      <td>Computational learning theory                 ...</td>\n",
       "    </tr>\n",
       "    <tr>\n",
       "      <th>8</th>\n",
       "      <td>9</td>\n",
       "      <td>False</td>\n",
       "      <td>Artificial intelligence conferences           ...</td>\n",
       "    </tr>\n",
       "    <tr>\n",
       "      <th>9</th>\n",
       "      <td>10</td>\n",
       "      <td>False</td>\n",
       "      <td>Data mining and machine learning software     ...</td>\n",
       "    </tr>\n",
       "    <tr>\n",
       "      <th>10</th>\n",
       "      <td>11</td>\n",
       "      <td>False</td>\n",
       "      <td>Datasets in machine learning                  ...</td>\n",
       "    </tr>\n",
       "    <tr>\n",
       "      <th>11</th>\n",
       "      <td>12</td>\n",
       "      <td>False</td>\n",
       "      <td>Dimension reduction                           ...</td>\n",
       "    </tr>\n",
       "    <tr>\n",
       "      <th>12</th>\n",
       "      <td>13</td>\n",
       "      <td>False</td>\n",
       "      <td>Ensemble learning                             ...</td>\n",
       "    </tr>\n",
       "    <tr>\n",
       "      <th>13</th>\n",
       "      <td>14</td>\n",
       "      <td>False</td>\n",
       "      <td>Evolutionary algorithms                       ...</td>\n",
       "    </tr>\n",
       "    <tr>\n",
       "      <th>14</th>\n",
       "      <td>15</td>\n",
       "      <td>False</td>\n",
       "      <td>Genetic programming                           ...</td>\n",
       "    </tr>\n",
       "    <tr>\n",
       "      <th>15</th>\n",
       "      <td>16</td>\n",
       "      <td>False</td>\n",
       "      <td>Inductive logic programming                   ...</td>\n",
       "    </tr>\n",
       "    <tr>\n",
       "      <th>16</th>\n",
       "      <td>17</td>\n",
       "      <td>False</td>\n",
       "      <td>Kernel methods for machine learning           ...</td>\n",
       "    </tr>\n",
       "    <tr>\n",
       "      <th>17</th>\n",
       "      <td>18</td>\n",
       "      <td>False</td>\n",
       "      <td>Latent variable models                        ...</td>\n",
       "    </tr>\n",
       "    <tr>\n",
       "      <th>18</th>\n",
       "      <td>19</td>\n",
       "      <td>False</td>\n",
       "      <td>Learning in computer vision                   ...</td>\n",
       "    </tr>\n",
       "    <tr>\n",
       "      <th>19</th>\n",
       "      <td>20</td>\n",
       "      <td>False</td>\n",
       "      <td>Log-linear models                             ...</td>\n",
       "    </tr>\n",
       "    <tr>\n",
       "      <th>20</th>\n",
       "      <td>21</td>\n",
       "      <td>False</td>\n",
       "      <td>Loss functions                                ...</td>\n",
       "    </tr>\n",
       "    <tr>\n",
       "      <th>21</th>\n",
       "      <td>22</td>\n",
       "      <td>False</td>\n",
       "      <td>Machine learning algorithms                   ...</td>\n",
       "    </tr>\n",
       "    <tr>\n",
       "      <th>22</th>\n",
       "      <td>23</td>\n",
       "      <td>False</td>\n",
       "      <td>Machine learning portal                       ...</td>\n",
       "    </tr>\n",
       "    <tr>\n",
       "      <th>23</th>\n",
       "      <td>24</td>\n",
       "      <td>False</td>\n",
       "      <td>Machine learning task                         ...</td>\n",
       "    </tr>\n",
       "    <tr>\n",
       "      <th>24</th>\n",
       "      <td>25</td>\n",
       "      <td>False</td>\n",
       "      <td>Markov models                                 ...</td>\n",
       "    </tr>\n",
       "    <tr>\n",
       "      <th>25</th>\n",
       "      <td>26</td>\n",
       "      <td>False</td>\n",
       "      <td>Machine learning researchers                  ...</td>\n",
       "    </tr>\n",
       "    <tr>\n",
       "      <th>26</th>\n",
       "      <td>27</td>\n",
       "      <td>False</td>\n",
       "      <td>Semisupervised learning                       ...</td>\n",
       "    </tr>\n",
       "    <tr>\n",
       "      <th>27</th>\n",
       "      <td>28</td>\n",
       "      <td>False</td>\n",
       "      <td>Statistical natural language processing       ...</td>\n",
       "    </tr>\n",
       "    <tr>\n",
       "      <th>28</th>\n",
       "      <td>29</td>\n",
       "      <td>False</td>\n",
       "      <td>Structured prediction                         ...</td>\n",
       "    </tr>\n",
       "    <tr>\n",
       "      <th>29</th>\n",
       "      <td>30</td>\n",
       "      <td>False</td>\n",
       "      <td>Supervised learning                           ...</td>\n",
       "    </tr>\n",
       "    <tr>\n",
       "      <th>...</th>\n",
       "      <td>...</td>\n",
       "      <td>...</td>\n",
       "      <td>...</td>\n",
       "    </tr>\n",
       "    <tr>\n",
       "      <th>128</th>\n",
       "      <td>129</td>\n",
       "      <td>False</td>\n",
       "      <td>Public health and biosurveillance software    ...</td>\n",
       "    </tr>\n",
       "    <tr>\n",
       "      <th>129</th>\n",
       "      <td>130</td>\n",
       "      <td>False</td>\n",
       "      <td>Repetitive strain injury software             ...</td>\n",
       "    </tr>\n",
       "    <tr>\n",
       "      <th>130</th>\n",
       "      <td>131</td>\n",
       "      <td>False</td>\n",
       "      <td>Dental software                               ...</td>\n",
       "    </tr>\n",
       "    <tr>\n",
       "      <th>131</th>\n",
       "      <td>132</td>\n",
       "      <td>False</td>\n",
       "      <td>DICOM software                                ...</td>\n",
       "    </tr>\n",
       "    <tr>\n",
       "      <th>132</th>\n",
       "      <td>133</td>\n",
       "      <td>False</td>\n",
       "      <td>Electronic health record software             ...</td>\n",
       "    </tr>\n",
       "    <tr>\n",
       "      <th>133</th>\n",
       "      <td>134</td>\n",
       "      <td>False</td>\n",
       "      <td>Electronic health records                     ...</td>\n",
       "    </tr>\n",
       "    <tr>\n",
       "      <th>134</th>\n",
       "      <td>135</td>\n",
       "      <td>False</td>\n",
       "      <td>Free healthcare software                      ...</td>\n",
       "    </tr>\n",
       "    <tr>\n",
       "      <th>135</th>\n",
       "      <td>136</td>\n",
       "      <td>False</td>\n",
       "      <td>Medical software                              ...</td>\n",
       "    </tr>\n",
       "    <tr>\n",
       "      <th>136</th>\n",
       "      <td>137</td>\n",
       "      <td>False</td>\n",
       "      <td>MUMPS programming language family             ...</td>\n",
       "    </tr>\n",
       "    <tr>\n",
       "      <th>137</th>\n",
       "      <td>138</td>\n",
       "      <td>False</td>\n",
       "      <td>Automatic Data Processing                     ...</td>\n",
       "    </tr>\n",
       "    <tr>\n",
       "      <th>138</th>\n",
       "      <td>139</td>\n",
       "      <td>False</td>\n",
       "      <td>Free human resource management software       ...</td>\n",
       "    </tr>\n",
       "    <tr>\n",
       "      <th>139</th>\n",
       "      <td>140</td>\n",
       "      <td>False</td>\n",
       "      <td>JavaServer Faces                              ...</td>\n",
       "    </tr>\n",
       "    <tr>\n",
       "      <th>140</th>\n",
       "      <td>141</td>\n",
       "      <td>False</td>\n",
       "      <td>Customer relationship management software     ...</td>\n",
       "    </tr>\n",
       "    <tr>\n",
       "      <th>141</th>\n",
       "      <td>142</td>\n",
       "      <td>False</td>\n",
       "      <td>Mobile sales enablement systems               ...</td>\n",
       "    </tr>\n",
       "    <tr>\n",
       "      <th>142</th>\n",
       "      <td>143</td>\n",
       "      <td>False</td>\n",
       "      <td>Search engine software                        ...</td>\n",
       "    </tr>\n",
       "    <tr>\n",
       "      <th>143</th>\n",
       "      <td>144</td>\n",
       "      <td>False</td>\n",
       "      <td>Content management systems                    ...</td>\n",
       "    </tr>\n",
       "    <tr>\n",
       "      <th>144</th>\n",
       "      <td>145</td>\n",
       "      <td>False</td>\n",
       "      <td>Email clients                                 ...</td>\n",
       "    </tr>\n",
       "    <tr>\n",
       "      <th>145</th>\n",
       "      <td>146</td>\n",
       "      <td>False</td>\n",
       "      <td>Office document file formats                  ...</td>\n",
       "    </tr>\n",
       "    <tr>\n",
       "      <th>146</th>\n",
       "      <td>147</td>\n",
       "      <td>False</td>\n",
       "      <td>Office suites                                 ...</td>\n",
       "    </tr>\n",
       "    <tr>\n",
       "      <th>147</th>\n",
       "      <td>148</td>\n",
       "      <td>False</td>\n",
       "      <td>Presentation software                         ...</td>\n",
       "    </tr>\n",
       "    <tr>\n",
       "      <th>148</th>\n",
       "      <td>149</td>\n",
       "      <td>False</td>\n",
       "      <td>Spreadsheet software                          ...</td>\n",
       "    </tr>\n",
       "    <tr>\n",
       "      <th>149</th>\n",
       "      <td>150</td>\n",
       "      <td>False</td>\n",
       "      <td>Typing software                               ...</td>\n",
       "    </tr>\n",
       "    <tr>\n",
       "      <th>150</th>\n",
       "      <td>151</td>\n",
       "      <td>False</td>\n",
       "      <td>Word processors                               ...</td>\n",
       "    </tr>\n",
       "    <tr>\n",
       "      <th>151</th>\n",
       "      <td>152</td>\n",
       "      <td>False</td>\n",
       "      <td>GitHub                                        ...</td>\n",
       "    </tr>\n",
       "    <tr>\n",
       "      <th>152</th>\n",
       "      <td>153</td>\n",
       "      <td>False</td>\n",
       "      <td>Mind-mapping software                         ...</td>\n",
       "    </tr>\n",
       "    <tr>\n",
       "      <th>153</th>\n",
       "      <td>154</td>\n",
       "      <td>False</td>\n",
       "      <td>Project hosting websites                      ...</td>\n",
       "    </tr>\n",
       "    <tr>\n",
       "      <th>154</th>\n",
       "      <td>155</td>\n",
       "      <td>False</td>\n",
       "      <td>Task management software                      ...</td>\n",
       "    </tr>\n",
       "    <tr>\n",
       "      <th>155</th>\n",
       "      <td>156</td>\n",
       "      <td>False</td>\n",
       "      <td>Desktop publishing software                   ...</td>\n",
       "    </tr>\n",
       "    <tr>\n",
       "      <th>156</th>\n",
       "      <td>157</td>\n",
       "      <td>False</td>\n",
       "      <td>Workflow software                             ...</td>\n",
       "    </tr>\n",
       "    <tr>\n",
       "      <th>157</th>\n",
       "      <td>158</td>\n",
       "      <td>False</td>\n",
       "      <td>Word processor stubs                          ...</td>\n",
       "    </tr>\n",
       "  </tbody>\n",
       "</table>\n",
       "<p>158 rows × 3 columns</p>\n",
       "</div>"
      ],
      "text/plain": [
       "     categoryid parentcategory  \\\n",
       "0             1           True   \n",
       "1             2           True   \n",
       "2             3          False   \n",
       "3             4          False   \n",
       "4             5          False   \n",
       "5             6          False   \n",
       "6             7          False   \n",
       "7             8          False   \n",
       "8             9          False   \n",
       "9            10          False   \n",
       "10           11          False   \n",
       "11           12          False   \n",
       "12           13          False   \n",
       "13           14          False   \n",
       "14           15          False   \n",
       "15           16          False   \n",
       "16           17          False   \n",
       "17           18          False   \n",
       "18           19          False   \n",
       "19           20          False   \n",
       "20           21          False   \n",
       "21           22          False   \n",
       "22           23          False   \n",
       "23           24          False   \n",
       "24           25          False   \n",
       "25           26          False   \n",
       "26           27          False   \n",
       "27           28          False   \n",
       "28           29          False   \n",
       "29           30          False   \n",
       "..          ...            ...   \n",
       "128         129          False   \n",
       "129         130          False   \n",
       "130         131          False   \n",
       "131         132          False   \n",
       "132         133          False   \n",
       "133         134          False   \n",
       "134         135          False   \n",
       "135         136          False   \n",
       "136         137          False   \n",
       "137         138          False   \n",
       "138         139          False   \n",
       "139         140          False   \n",
       "140         141          False   \n",
       "141         142          False   \n",
       "142         143          False   \n",
       "143         144          False   \n",
       "144         145          False   \n",
       "145         146          False   \n",
       "146         147          False   \n",
       "147         148          False   \n",
       "148         149          False   \n",
       "149         150          False   \n",
       "150         151          False   \n",
       "151         152          False   \n",
       "152         153          False   \n",
       "153         154          False   \n",
       "154         155          False   \n",
       "155         156          False   \n",
       "156         157          False   \n",
       "157         158          False   \n",
       "\n",
       "                                                 title  \n",
       "0    Business software                             ...  \n",
       "1    Machine learning                              ...  \n",
       "2    Applied machine learning                      ...  \n",
       "3    Artificial neural networks                    ...  \n",
       "4    Bayesian networks                             ...  \n",
       "5    Classification algorithms                     ...  \n",
       "6    Cluster analysis                              ...  \n",
       "7    Computational learning theory                 ...  \n",
       "8    Artificial intelligence conferences           ...  \n",
       "9    Data mining and machine learning software     ...  \n",
       "10   Datasets in machine learning                  ...  \n",
       "11   Dimension reduction                           ...  \n",
       "12   Ensemble learning                             ...  \n",
       "13   Evolutionary algorithms                       ...  \n",
       "14   Genetic programming                           ...  \n",
       "15   Inductive logic programming                   ...  \n",
       "16   Kernel methods for machine learning           ...  \n",
       "17   Latent variable models                        ...  \n",
       "18   Learning in computer vision                   ...  \n",
       "19   Log-linear models                             ...  \n",
       "20   Loss functions                                ...  \n",
       "21   Machine learning algorithms                   ...  \n",
       "22   Machine learning portal                       ...  \n",
       "23   Machine learning task                         ...  \n",
       "24   Markov models                                 ...  \n",
       "25   Machine learning researchers                  ...  \n",
       "26   Semisupervised learning                       ...  \n",
       "27   Statistical natural language processing       ...  \n",
       "28   Structured prediction                         ...  \n",
       "29   Supervised learning                           ...  \n",
       "..                                                 ...  \n",
       "128  Public health and biosurveillance software    ...  \n",
       "129  Repetitive strain injury software             ...  \n",
       "130  Dental software                               ...  \n",
       "131  DICOM software                                ...  \n",
       "132  Electronic health record software             ...  \n",
       "133  Electronic health records                     ...  \n",
       "134  Free healthcare software                      ...  \n",
       "135  Medical software                              ...  \n",
       "136  MUMPS programming language family             ...  \n",
       "137  Automatic Data Processing                     ...  \n",
       "138  Free human resource management software       ...  \n",
       "139  JavaServer Faces                              ...  \n",
       "140  Customer relationship management software     ...  \n",
       "141  Mobile sales enablement systems               ...  \n",
       "142  Search engine software                        ...  \n",
       "143  Content management systems                    ...  \n",
       "144  Email clients                                 ...  \n",
       "145  Office document file formats                  ...  \n",
       "146  Office suites                                 ...  \n",
       "147  Presentation software                         ...  \n",
       "148  Spreadsheet software                          ...  \n",
       "149  Typing software                               ...  \n",
       "150  Word processors                               ...  \n",
       "151  GitHub                                        ...  \n",
       "152  Mind-mapping software                         ...  \n",
       "153  Project hosting websites                      ...  \n",
       "154  Task management software                      ...  \n",
       "155  Desktop publishing software                   ...  \n",
       "156  Workflow software                             ...  \n",
       "157  Word processor stubs                          ...  \n",
       "\n",
       "[158 rows x 3 columns]"
      ]
     },
     "execution_count": 33,
     "metadata": {},
     "output_type": "execute_result"
    }
   ],
   "source": [
    "cursor.execute(\"SELECT * FROM category;\")\n",
    "pd.DataFrame(cursor.fetchall())"
   ]
  },
  {
   "cell_type": "code",
   "execution_count": null,
   "metadata": {
    "collapsed": true
   },
   "outputs": [],
   "source": [
    "query_db(\"\"\"\n",
    "                SELECT category.categoryid, pagetext \n",
    "                FROM page, page_category, category \n",
    "                WHERE page.pageid = page_category.pageid \n",
    "                AND category.categoryid = page_category.categoryid  \n",
    "                AND category.parentcategory = True;\n",
    "                \"\"\", fetch_res=True)"
   ]
  },
  {
   "cell_type": "code",
   "execution_count": 46,
   "metadata": {},
   "outputs": [
    {
     "data": {
      "text/html": [
       "<div>\n",
       "<table border=\"1\" class=\"dataframe\">\n",
       "  <thead>\n",
       "    <tr style=\"text-align: right;\">\n",
       "      <th></th>\n",
       "      <th>categoryid</th>\n",
       "      <th>pagetext</th>\n",
       "    </tr>\n",
       "  </thead>\n",
       "  <tbody>\n",
       "    <tr>\n",
       "      <th>0</th>\n",
       "      <td>1</td>\n",
       "      <td>business software business application softwar...</td>\n",
       "    </tr>\n",
       "    <tr>\n",
       "      <th>1</th>\n",
       "      <td>1</td>\n",
       "      <td>accusystems llc american company headquartered...</td>\n",
       "    </tr>\n",
       "    <tr>\n",
       "      <th>2</th>\n",
       "      <td>1</td>\n",
       "      <td>active policy management businessoriented ente...</td>\n",
       "    </tr>\n",
       "    <tr>\n",
       "      <th>3</th>\n",
       "      <td>1</td>\n",
       "      <td>alexandria browser based crossplatform library...</td>\n",
       "    </tr>\n",
       "    <tr>\n",
       "      <th>4</th>\n",
       "      <td>1</td>\n",
       "      <td>alteryx american computer software company bas...</td>\n",
       "    </tr>\n",
       "    <tr>\n",
       "      <th>5</th>\n",
       "      <td>1</td>\n",
       "      <td>amadeus computer reservations system global di...</td>\n",
       "    </tr>\n",
       "    <tr>\n",
       "      <th>6</th>\n",
       "      <td>1</td>\n",
       "      <td>ams device manager plant asset management soft...</td>\n",
       "    </tr>\n",
       "    <tr>\n",
       "      <th>7</th>\n",
       "      <td>1</td>\n",
       "      <td>angelfish software onpremises selfhosted web a...</td>\n",
       "    </tr>\n",
       "    <tr>\n",
       "      <th>8</th>\n",
       "      <td>1</td>\n",
       "      <td>applicant tracking system ats software applica...</td>\n",
       "    </tr>\n",
       "    <tr>\n",
       "      <th>9</th>\n",
       "      <td>1</td>\n",
       "      <td>application retirement called application deco...</td>\n",
       "    </tr>\n",
       "    <tr>\n",
       "      <th>10</th>\n",
       "      <td>1</td>\n",
       "      <td>architecture interoperable information systems...</td>\n",
       "    </tr>\n",
       "    <tr>\n",
       "      <th>11</th>\n",
       "      <td>1</td>\n",
       "      <td>asset recovery software business term refers s...</td>\n",
       "    </tr>\n",
       "    <tr>\n",
       "      <th>12</th>\n",
       "      <td>1</td>\n",
       "      <td>avaloq swiss company develops provides softwar...</td>\n",
       "    </tr>\n",
       "    <tr>\n",
       "      <th>13</th>\n",
       "      <td>1</td>\n",
       "      <td>axess computer reservations system based japan...</td>\n",
       "    </tr>\n",
       "    <tr>\n",
       "      <th>14</th>\n",
       "      <td>1</td>\n",
       "      <td>ayasdi machine intelligence software company o...</td>\n",
       "    </tr>\n",
       "    <tr>\n",
       "      <th>15</th>\n",
       "      <td>1</td>\n",
       "      <td>balanced scorecard bsc strategy performance ma...</td>\n",
       "    </tr>\n",
       "    <tr>\n",
       "      <th>16</th>\n",
       "      <td>1</td>\n",
       "      <td>batchmaster software united states based compa...</td>\n",
       "    </tr>\n",
       "    <tr>\n",
       "      <th>17</th>\n",
       "      <td>1</td>\n",
       "      <td>blue prism trading blue prism group uk multina...</td>\n",
       "    </tr>\n",
       "    <tr>\n",
       "      <th>18</th>\n",
       "      <td>1</td>\n",
       "      <td>bluespice mediawiki bluespice short free wiki ...</td>\n",
       "    </tr>\n",
       "    <tr>\n",
       "      <th>19</th>\n",
       "      <td>1</td>\n",
       "      <td>bqe software californiabased privately owned c...</td>\n",
       "    </tr>\n",
       "    <tr>\n",
       "      <th>20</th>\n",
       "      <td>1</td>\n",
       "      <td>brfplus business rule framework plus business ...</td>\n",
       "    </tr>\n",
       "    <tr>\n",
       "      <th>21</th>\n",
       "      <td>1</td>\n",
       "      <td>brightpearl omnichannel retail management plat...</td>\n",
       "    </tr>\n",
       "    <tr>\n",
       "      <th>22</th>\n",
       "      <td>1</td>\n",
       "      <td>buckaroo com created online marketing product ...</td>\n",
       "    </tr>\n",
       "    <tr>\n",
       "      <th>23</th>\n",
       "      <td>1</td>\n",
       "      <td>business activity monitoring bam software aids...</td>\n",
       "    </tr>\n",
       "    <tr>\n",
       "      <th>24</th>\n",
       "      <td>1</td>\n",
       "      <td>business anticorruption portal bacp onestop sh...</td>\n",
       "    </tr>\n",
       "    <tr>\n",
       "      <th>25</th>\n",
       "      <td>1</td>\n",
       "      <td>data preparation act preparing preprocessing r...</td>\n",
       "    </tr>\n",
       "    <tr>\n",
       "      <th>26</th>\n",
       "      <td>1</td>\n",
       "      <td>business intelligence software type applicatio...</td>\n",
       "    </tr>\n",
       "    <tr>\n",
       "      <th>27</th>\n",
       "      <td>1</td>\n",
       "      <td>business interoperability interface bii interf...</td>\n",
       "    </tr>\n",
       "    <tr>\n",
       "      <th>28</th>\n",
       "      <td>1</td>\n",
       "      <td>business process interoperability bpi property...</td>\n",
       "    </tr>\n",
       "    <tr>\n",
       "      <th>29</th>\n",
       "      <td>1</td>\n",
       "      <td>business rules abstractions policies practices...</td>\n",
       "    </tr>\n",
       "    <tr>\n",
       "      <th>...</th>\n",
       "      <td>...</td>\n",
       "      <td>...</td>\n",
       "    </tr>\n",
       "    <tr>\n",
       "      <th>530</th>\n",
       "      <td>52</td>\n",
       "      <td>kastenlauf kistenlauf bierkastenlauf bierlauf ...</td>\n",
       "    </tr>\n",
       "    <tr>\n",
       "      <th>531</th>\n",
       "      <td>52</td>\n",
       "      <td>keg stand drinking activity participant handst...</td>\n",
       "    </tr>\n",
       "    <tr>\n",
       "      <th>532</th>\n",
       "      <td>52</td>\n",
       "      <td>kings kings cup donut jug oval fire ring fire ...</td>\n",
       "    </tr>\n",
       "    <tr>\n",
       "      <th>533</th>\n",
       "      <td>52</td>\n",
       "      <td>kinito basque drinking game involving people d...</td>\n",
       "    </tr>\n",
       "    <tr>\n",
       "      <th>534</th>\n",
       "      <td>52</td>\n",
       "      <td>kottabos ancient greek game skill played ancie...</td>\n",
       "    </tr>\n",
       "    <tr>\n",
       "      <th>535</th>\n",
       "      <td>52</td>\n",
       "      <td>liars dice class dice games players requiring ...</td>\n",
       "    </tr>\n",
       "    <tr>\n",
       "      <th>536</th>\n",
       "      <td>52</td>\n",
       "      <td>list drinking games drinking games involve con...</td>\n",
       "    </tr>\n",
       "    <tr>\n",
       "      <th>537</th>\n",
       "      <td>52</td>\n",
       "      <td>matchbox drinking game skill played table play...</td>\n",
       "    </tr>\n",
       "    <tr>\n",
       "      <th>538</th>\n",
       "      <td>52</td>\n",
       "      <td>moose commonly known caribou drinking game use...</td>\n",
       "    </tr>\n",
       "    <tr>\n",
       "      <th>539</th>\n",
       "      <td>52</td>\n",
       "      <td>neknominate known neck nominate neknomination ...</td>\n",
       "    </tr>\n",
       "    <tr>\n",
       "      <th>540</th>\n",
       "      <td>52</td>\n",
       "      <td>known ve fingers drinking game rules verbal ga...</td>\n",
       "    </tr>\n",
       "    <tr>\n",
       "      <th>541</th>\n",
       "      <td>52</td>\n",
       "      <td>pub crawl called bar tour bar crawl barhopping...</td>\n",
       "    </tr>\n",
       "    <tr>\n",
       "      <th>542</th>\n",
       "      <td>52</td>\n",
       "      <td>pub golf bar golf recreational drinking game i...</td>\n",
       "    </tr>\n",
       "    <tr>\n",
       "      <th>543</th>\n",
       "      <td>52</td>\n",
       "      <td>pyramid beeramid card game commonly drinking g...</td>\n",
       "    </tr>\n",
       "    <tr>\n",
       "      <th>544</th>\n",
       "      <td>52</td>\n",
       "      <td>pyramid fire drinking game collegeuniversity s...</td>\n",
       "    </tr>\n",
       "    <tr>\n",
       "      <th>545</th>\n",
       "      <td>52</td>\n",
       "      <td>quarters drinking game involves players bounci...</td>\n",
       "    </tr>\n",
       "    <tr>\n",
       "      <th>546</th>\n",
       "      <td>52</td>\n",
       "      <td>ride bus drinking game played standard pack ca...</td>\n",
       "    </tr>\n",
       "    <tr>\n",
       "      <th>547</th>\n",
       "      <td>52</td>\n",
       "      <td>schlafmtze fastpaced game matching bluffing cl...</td>\n",
       "    </tr>\n",
       "    <tr>\n",
       "      <th>548</th>\n",
       "      <td>52</td>\n",
       "      <td>sevens elevens doubles referred NUMBER s NUMBE...</td>\n",
       "    </tr>\n",
       "    <tr>\n",
       "      <th>549</th>\n",
       "      <td>52</td>\n",
       "      <td>ship captain crew referred ship fools motha fu...</td>\n",
       "    </tr>\n",
       "    <tr>\n",
       "      <th>550</th>\n",
       "      <td>52</td>\n",
       "      <td>shoulders drinking game involves players compe...</td>\n",
       "    </tr>\n",
       "    <tr>\n",
       "      <th>551</th>\n",
       "      <td>52</td>\n",
       "      <td>sinking champagne act pouring champagne sink s...</td>\n",
       "    </tr>\n",
       "    <tr>\n",
       "      <th>552</th>\n",
       "      <td>52</td>\n",
       "      <td>snapdragon known flapdragon snapdragon flapdra...</td>\n",
       "    </tr>\n",
       "    <tr>\n",
       "      <th>553</th>\n",
       "      <td>52</td>\n",
       "      <td>man referred mr hat man drinking game played d...</td>\n",
       "    </tr>\n",
       "    <tr>\n",
       "      <th>554</th>\n",
       "      <td>52</td>\n",
       "      <td>toepen tricktaking dutch card game players pla...</td>\n",
       "    </tr>\n",
       "    <tr>\n",
       "      <th>555</th>\n",
       "      <td>52</td>\n",
       "      <td>jenkins known shortened jenkins party game pla...</td>\n",
       "    </tr>\n",
       "    <tr>\n",
       "      <th>556</th>\n",
       "      <td>52</td>\n",
       "      <td>wizard staff known wisest wizard wizard sticks...</td>\n",
       "    </tr>\n",
       "    <tr>\n",
       "      <th>557</th>\n",
       "      <td>52</td>\n",
       "      <td>world series beer pong wsobp largest beer pong...</td>\n",
       "    </tr>\n",
       "    <tr>\n",
       "      <th>558</th>\n",
       "      <td>52</td>\n",
       "      <td>zoom schwartz profigliano known figliano verba...</td>\n",
       "    </tr>\n",
       "    <tr>\n",
       "      <th>559</th>\n",
       "      <td>52</td>\n",
       "      <td>drinking games complete guide overviewdrinki...</td>\n",
       "    </tr>\n",
       "  </tbody>\n",
       "</table>\n",
       "<p>560 rows × 2 columns</p>\n",
       "</div>"
      ],
      "text/plain": [
       "     categoryid                                           pagetext\n",
       "0             1  business software business application softwar...\n",
       "1             1  accusystems llc american company headquartered...\n",
       "2             1  active policy management businessoriented ente...\n",
       "3             1  alexandria browser based crossplatform library...\n",
       "4             1  alteryx american computer software company bas...\n",
       "5             1  amadeus computer reservations system global di...\n",
       "6             1  ams device manager plant asset management soft...\n",
       "7             1  angelfish software onpremises selfhosted web a...\n",
       "8             1  applicant tracking system ats software applica...\n",
       "9             1  application retirement called application deco...\n",
       "10            1  architecture interoperable information systems...\n",
       "11            1  asset recovery software business term refers s...\n",
       "12            1  avaloq swiss company develops provides softwar...\n",
       "13            1  axess computer reservations system based japan...\n",
       "14            1  ayasdi machine intelligence software company o...\n",
       "15            1  balanced scorecard bsc strategy performance ma...\n",
       "16            1  batchmaster software united states based compa...\n",
       "17            1  blue prism trading blue prism group uk multina...\n",
       "18            1  bluespice mediawiki bluespice short free wiki ...\n",
       "19            1  bqe software californiabased privately owned c...\n",
       "20            1  brfplus business rule framework plus business ...\n",
       "21            1  brightpearl omnichannel retail management plat...\n",
       "22            1  buckaroo com created online marketing product ...\n",
       "23            1  business activity monitoring bam software aids...\n",
       "24            1  business anticorruption portal bacp onestop sh...\n",
       "25            1  data preparation act preparing preprocessing r...\n",
       "26            1  business intelligence software type applicatio...\n",
       "27            1  business interoperability interface bii interf...\n",
       "28            1  business process interoperability bpi property...\n",
       "29            1  business rules abstractions policies practices...\n",
       "..          ...                                                ...\n",
       "530          52  kastenlauf kistenlauf bierkastenlauf bierlauf ...\n",
       "531          52  keg stand drinking activity participant handst...\n",
       "532          52  kings kings cup donut jug oval fire ring fire ...\n",
       "533          52  kinito basque drinking game involving people d...\n",
       "534          52  kottabos ancient greek game skill played ancie...\n",
       "535          52  liars dice class dice games players requiring ...\n",
       "536          52  list drinking games drinking games involve con...\n",
       "537          52  matchbox drinking game skill played table play...\n",
       "538          52  moose commonly known caribou drinking game use...\n",
       "539          52  neknominate known neck nominate neknomination ...\n",
       "540          52  known ve fingers drinking game rules verbal ga...\n",
       "541          52  pub crawl called bar tour bar crawl barhopping...\n",
       "542          52  pub golf bar golf recreational drinking game i...\n",
       "543          52  pyramid beeramid card game commonly drinking g...\n",
       "544          52  pyramid fire drinking game collegeuniversity s...\n",
       "545          52  quarters drinking game involves players bounci...\n",
       "546          52  ride bus drinking game played standard pack ca...\n",
       "547          52  schlafmtze fastpaced game matching bluffing cl...\n",
       "548          52  sevens elevens doubles referred NUMBER s NUMBE...\n",
       "549          52  ship captain crew referred ship fools motha fu...\n",
       "550          52  shoulders drinking game involves players compe...\n",
       "551          52  sinking champagne act pouring champagne sink s...\n",
       "552          52  snapdragon known flapdragon snapdragon flapdra...\n",
       "553          52  man referred mr hat man drinking game played d...\n",
       "554          52  toepen tricktaking dutch card game players pla...\n",
       "555          52  jenkins known shortened jenkins party game pla...\n",
       "556          52  wizard staff known wisest wizard wizard sticks...\n",
       "557          52  world series beer pong wsobp largest beer pong...\n",
       "558          52  zoom schwartz profigliano known figliano verba...\n",
       "559          52    drinking games complete guide overviewdrinki...\n",
       "\n",
       "[560 rows x 2 columns]"
      ]
     },
     "execution_count": 46,
     "metadata": {},
     "output_type": "execute_result"
    }
   ],
   "source": [
    "result = cursor.execute(\"\"\" SELECT category.categoryid, pagetext \n",
    "                FROM page, page_category, category \n",
    "                WHERE page.pageid = page_category.pageid \n",
    "                AND category.categoryid = page_category.categoryid  \n",
    "                AND category.parentcategory = True;\"\"\")\n",
    "pd.DataFrame(cursor.fetchall())"
   ]
  },
  {
   "cell_type": "code",
   "execution_count": 12,
   "metadata": {
    "collapsed": true
   },
   "outputs": [],
   "source": [
    "query_to_dictionary(\"\"\"\n",
    "BEGIN;\n",
    "DELETE FROM page;\n",
    "DELETE FROM category;\n",
    "DELETE FROM page_category;\n",
    "COMMIT;\n",
    "\"\"\", fetch_res=False)"
   ]
  },
  {
   "cell_type": "code",
   "execution_count": 13,
   "metadata": {},
   "outputs": [
    {
     "name": "stderr",
     "output_type": "stream",
     "text": [
      "ERROR:root:An unexpected error occurred while tokenizing input\n",
      "The following traceback may be corrupted or invalid\n",
      "The error message is: ('EOF in multi-line string', (1, 0))\n",
      "\n"
     ]
    },
    {
     "ename": "IntegrityError",
     "evalue": "insert or update on table \"page_category\" violates foreign key constraint \"pageid_fkey\"\nDETAIL:  Key (pageid)=(1) is not present in table \"page\".\n",
     "output_type": "error",
     "traceback": [
      "\u001b[0;31m---------------------------------------------------------------------------\u001b[0m",
      "\u001b[0;31mIntegrityError\u001b[0m                            Traceback (most recent call last)",
      "\u001b[0;32m<ipython-input-13-064bb4f7b97c>\u001b[0m in \u001b[0;36m<module>\u001b[0;34m()\u001b[0m\n\u001b[1;32m      4\u001b[0m \u001b[0mVALUES\u001b[0m \u001b[0;34m(\u001b[0m\u001b[0;36m1\u001b[0m\u001b[0;34m,\u001b[0m \u001b[0;36m1\u001b[0m\u001b[0;34m)\u001b[0m\u001b[0;34m;\u001b[0m\u001b[0;34m\u001b[0m\u001b[0m\n\u001b[1;32m      5\u001b[0m \u001b[0mCOMMIT\u001b[0m\u001b[0;34m;\u001b[0m\u001b[0;34m\u001b[0m\u001b[0m\n\u001b[0;32m----> 6\u001b[0;31m \"\"\", fetch_res=False)\n\u001b[0m",
      "\u001b[0;32m<ipython-input-6-b4659415c399>\u001b[0m in \u001b[0;36mquery_to_dictionary\u001b[0;34m(query, fetch_res)\u001b[0m\n\u001b[1;32m     13\u001b[0m \u001b[0;32mdef\u001b[0m \u001b[0mquery_to_dictionary\u001b[0m\u001b[0;34m(\u001b[0m\u001b[0mquery\u001b[0m\u001b[0;34m,\u001b[0m \u001b[0mfetch_res\u001b[0m\u001b[0;34m=\u001b[0m\u001b[0;32mTrue\u001b[0m\u001b[0;34m)\u001b[0m\u001b[0;34m:\u001b[0m\u001b[0;34m\u001b[0m\u001b[0m\n\u001b[1;32m     14\u001b[0m     \u001b[0mcon\u001b[0m\u001b[0;34m,\u001b[0m \u001b[0mcur\u001b[0m \u001b[0;34m=\u001b[0m \u001b[0mconnect_to_db\u001b[0m\u001b[0;34m(\u001b[0m\u001b[0;34m)\u001b[0m\u001b[0;34m\u001b[0m\u001b[0m\n\u001b[0;32m---> 15\u001b[0;31m     \u001b[0mcur\u001b[0m\u001b[0;34m.\u001b[0m\u001b[0mexecute\u001b[0m\u001b[0;34m(\u001b[0m\u001b[0mquery\u001b[0m\u001b[0;34m)\u001b[0m\u001b[0;34m\u001b[0m\u001b[0m\n\u001b[0m\u001b[1;32m     16\u001b[0m     \u001b[0;32mif\u001b[0m \u001b[0mfetch_res\u001b[0m\u001b[0;34m:\u001b[0m\u001b[0;34m\u001b[0m\u001b[0m\n\u001b[1;32m     17\u001b[0m         \u001b[0mresults\u001b[0m \u001b[0;34m=\u001b[0m \u001b[0mcur\u001b[0m\u001b[0;34m.\u001b[0m\u001b[0mfetchall\u001b[0m\u001b[0;34m(\u001b[0m\u001b[0;34m)\u001b[0m\u001b[0;34m\u001b[0m\u001b[0m\n",
      "\u001b[0;32m/opt/conda/lib/python3.6/site-packages/psycopg2/extras.py\u001b[0m in \u001b[0;36mexecute\u001b[0;34m(self, query, vars)\u001b[0m\n\u001b[1;32m    247\u001b[0m         \u001b[0mself\u001b[0m\u001b[0;34m.\u001b[0m\u001b[0mcolumn_mapping\u001b[0m \u001b[0;34m=\u001b[0m \u001b[0;34m[\u001b[0m\u001b[0;34m]\u001b[0m\u001b[0;34m\u001b[0m\u001b[0m\n\u001b[1;32m    248\u001b[0m         \u001b[0mself\u001b[0m\u001b[0;34m.\u001b[0m\u001b[0m_query_executed\u001b[0m \u001b[0;34m=\u001b[0m \u001b[0;36m1\u001b[0m\u001b[0;34m\u001b[0m\u001b[0m\n\u001b[0;32m--> 249\u001b[0;31m         \u001b[0;32mreturn\u001b[0m \u001b[0msuper\u001b[0m\u001b[0;34m(\u001b[0m\u001b[0mRealDictCursor\u001b[0m\u001b[0;34m,\u001b[0m \u001b[0mself\u001b[0m\u001b[0;34m)\u001b[0m\u001b[0;34m.\u001b[0m\u001b[0mexecute\u001b[0m\u001b[0;34m(\u001b[0m\u001b[0mquery\u001b[0m\u001b[0;34m,\u001b[0m \u001b[0mvars\u001b[0m\u001b[0;34m)\u001b[0m\u001b[0;34m\u001b[0m\u001b[0m\n\u001b[0m\u001b[1;32m    250\u001b[0m \u001b[0;34m\u001b[0m\u001b[0m\n\u001b[1;32m    251\u001b[0m     \u001b[0;32mdef\u001b[0m \u001b[0mcallproc\u001b[0m\u001b[0;34m(\u001b[0m\u001b[0mself\u001b[0m\u001b[0;34m,\u001b[0m \u001b[0mprocname\u001b[0m\u001b[0;34m,\u001b[0m \u001b[0mvars\u001b[0m\u001b[0;34m=\u001b[0m\u001b[0;32mNone\u001b[0m\u001b[0;34m)\u001b[0m\u001b[0;34m:\u001b[0m\u001b[0;34m\u001b[0m\u001b[0m\n",
      "\u001b[0;31mIntegrityError\u001b[0m: insert or update on table \"page_category\" violates foreign key constraint \"pageid_fkey\"\nDETAIL:  Key (pageid)=(1) is not present in table \"page\".\n"
     ]
    }
   ],
   "source": [
    "query_to_dictionary(\"\"\"\n",
    "BEGIN;\n",
    "INSERT INTO page_category (pageid, categoryid)\n",
    "VALUES (1, 1);\n",
    "COMMIT;\n",
    "\"\"\", fetch_res=False)"
   ]
  },
  {
   "cell_type": "code",
   "execution_count": null,
   "metadata": {
    "collapsed": true,
    "scrolled": false
   },
   "outputs": [],
   "source": [
    "query_to_dictionary(\"\"\"\n",
    "BEGIN;\n",
    "CREATE TABLE page (\n",
    "    pageid \t\tSERIAL PRIMARY KEY \tNOT NULL,\n",
    "    title\t\tCHAR(100)\t\t\tNOT NULL,\t\n",
    "\tpagetext\tTEXT\t\n",
    ");\n",
    "COMMIT;\n",
    "\"\"\", fetch_res=False)"
   ]
  },
  {
   "cell_type": "code",
   "execution_count": 9,
   "metadata": {},
   "outputs": [
    {
     "ename": "NameError",
     "evalue": "name 'query_db' is not defined",
     "output_type": "error",
     "traceback": [
      "\u001b[0;31m---------------------------------------------------------------------------\u001b[0m",
      "\u001b[0;31mNameError\u001b[0m                                 Traceback (most recent call last)",
      "\u001b[0;32m<ipython-input-9-1591798612cf>\u001b[0m in \u001b[0;36m<module>\u001b[0;34m()\u001b[0m\n\u001b[0;32m----> 1\u001b[0;31m categoryid = query_db(\"\"\"\n\u001b[0m\u001b[1;32m      2\u001b[0m                     \u001b[0mSELECT\u001b[0m \u001b[0mcategoryid\u001b[0m \u001b[0mFROM\u001b[0m \u001b[0mcategory\u001b[0m\u001b[0;34m\u001b[0m\u001b[0m\n\u001b[1;32m      3\u001b[0m                         \u001b[0mWHERE\u001b[0m \u001b[0mtitle\u001b[0m \u001b[0;34m=\u001b[0m \u001b[0;34m'{}'\u001b[0m\u001b[0;34m;\u001b[0m\u001b[0;34m\u001b[0m\u001b[0m\n\u001b[1;32m      4\u001b[0m                     \"\"\".format(cat), fetch_res=True)\n\u001b[1;32m      5\u001b[0m \u001b[0mcategoryid\u001b[0m\u001b[0;34m[\u001b[0m\u001b[0;36m0\u001b[0m\u001b[0;34m]\u001b[0m\u001b[0;34m[\u001b[0m\u001b[0;34m'categoryid'\u001b[0m\u001b[0;34m]\u001b[0m\u001b[0;34m\u001b[0m\u001b[0m\n",
      "\u001b[0;31mNameError\u001b[0m: name 'query_db' is not defined"
     ]
    }
   ],
   "source": [
    "categoryid = query_db(\"\"\"\n",
    "                    SELECT categoryid FROM category \n",
    "                        WHERE title = '{}';\n",
    "                    \"\"\".format(cat), fetch_res=True)\n",
    "categoryid[0]['categoryid']"
   ]
  },
  {
   "cell_type": "code",
   "execution_count": null,
   "metadata": {
    "collapsed": true
   },
   "outputs": [],
   "source": [
    "import requests\n",
    "import sys\n",
    "import psycopg2 as pg2\n",
    "from psycopg2.extras import RealDictCursor\n",
    "import pandas as pd\n",
    "import re\n",
    "\n",
    "def connect_to_db():\n",
    "    con = pg2.connect(host='postgres',\n",
    "                      dbname='postgres',\n",
    "                      user='postgres')\n",
    "    cur = con.cursor(cursor_factory=RealDictCursor)\n",
    "    return con, cur\n",
    "\n",
    "def query_db(query, fetch_res=True):\n",
    "    con, cur = connect_to_db()\n",
    "    cur.execute(query)\n",
    "    if fetch_res:\n",
    "        results = cur.fetchall()\n",
    "    else:\n",
    "        results = None\n",
    "    con.close()\n",
    "    return results\n",
    "\n",
    "def cleaner(message):\n",
    "    message = re.sub('<.>', ' ', message)\n",
    "    message = re.sub('<..>', ' ', message)\n",
    "    message = re.sub('\\.+', ' ', message)\n",
    "    message = re.sub('[^a-z0-9 ]','', message.lower())\n",
    "    message = re.sub('\\d+','NUMBER ',message)\n",
    "    message = re.sub('\\s+',' ',message)\n",
    "    return message\n",
    "\n",
    "#sys.argv = [\"query.py\", \"Machine learning\"]\n",
    "\n",
    "cat = []\n",
    "cat_nxt_lvl = []\n",
    "if len(sys.argv) > 2:\n",
    "    lvl = int(sys.argv[2])\n",
    "    print(lvl)\n",
    "elif len(sys.argv) == 2:\n",
    "\tlvl = 1\n",
    "\tcat_nxt_lvl.append(sys.argv[1])\n",
    "else:\n",
    "    raise IOError(\"Please enter a category\")\n",
    "\n",
    "for levels in range(lvl):\n",
    "\n",
    "\tcat = cat_nxt_lvl\n",
    "\tcat_nxt_lvl = []\n",
    "\n",
    "\tfor category in cat:\n",
    "\n",
    "\t\tcheck_categoryid = query_db(\"\"\"\n",
    "\t\t                    SELECT categoryid FROM category \n",
    "\t\t                        WHERE title = '{}';\n",
    "\t\t                    \"\"\".format(category), fetch_res=True)\n",
    "\n",
    "\t\tif len(check_categoryid) == 0:\n",
    "\t\t    query_db(\"\"\"\n",
    "\t\t            BEGIN;\n",
    "\t\t            INSERT INTO category (title)\n",
    "\t\t                VALUES ('{}');\n",
    "\t\t            COMMIT;\n",
    "\t\t            \"\"\".format(category), fetch_res=False)\n",
    "\n",
    "\n",
    "\t\tcategoryid = query_db(\"\"\"\n",
    "\t\t                    SELECT categoryid FROM category \n",
    "\t\t                        WHERE title = '{}';\n",
    "\t\t                    \"\"\".format(category), fetch_res=True)\n",
    "\n",
    "\t\t    \n",
    "\t\turl = \"https://en.wikipedia.org/w/api.php\"\n",
    "\t\tparams = {\n",
    "\t\t    \"action\":\"query\",\n",
    "\t\t    \"list\":\"categorymembers\",\n",
    "\t\t    \"cmlimit\":500,\n",
    "\t\t    \"format\":\"json\",\n",
    "\t\t    \"cmtitle\":\"Category:\" + category\n",
    "\t\t}\n",
    "\n",
    "\t\tresponse_cat = requests.get(url, params = params)\n",
    "\t\tresponse_cat_json = response_cat.json()\n",
    "\n",
    "\t\tfor entry in response_cat_json['query']['categorymembers']:\n",
    "\n",
    "\t\t    pageid = entry[\"pageid\"]\n",
    "\t\t    title = entry[\"title\"].replace(\"'\",\"\")\n",
    "\n",
    "\t\t    if title[:9] != \"Category:\":\n",
    "\t\t        print(title)\n",
    "\n",
    "\t\t        url = \"https://en.wikipedia.org/w/api.php\"\n",
    "\t\t        params = {\n",
    "\t\t                \"action\":\"query\",\n",
    "\t\t                \"prop\":\"extracts\",\n",
    "\t\t                \"exlimit\":\"max\",\n",
    "\t\t                \"format\":\"json\",\n",
    "\t\t                \"pageids\": str(pageid)\n",
    "\t\t                }\n",
    "\t\t            \n",
    "\t\t        response_pag = requests.get(url, params = params)\n",
    "\t\t        response_pag_json = response_pag.json()\n",
    "\t\t        pagetext = response_pag_json['query']['pages'][str(pageid)]['extract'].replace(\"'\",\"\")\n",
    "\t\t        pagetext = cleaner(pagetext)\n",
    "\t\t        \n",
    "\t\t        check_pageid = query_db(\"\"\"\n",
    "\t\t                        SELECT pageid FROM page \n",
    "\t\t                            WHERE pageid = {};\n",
    "\t\t                        \"\"\".format(str(pageid)), fetch_res=True)\n",
    "\t\t        \n",
    "\t\t        if len(check_pageid) == 0:\n",
    "\t\t            query_db(\"\"\"\n",
    "\t\t                    BEGIN;\n",
    "\t\t                    INSERT INTO page (pageid, title, pagetext)\n",
    "\t\t                        VALUES ({}, '{}', '{}');\n",
    "\t\t                    COMMIT;\n",
    "\t\t                    \"\"\".format(str(pageid), title, pagetext), fetch_res=False)\n",
    "\n",
    "\t\t            query_db(\"\"\"\n",
    "\t\t                    BEGIN;\n",
    "\t\t                    INSERT INTO page_category (pageid, categoryid)\n",
    "\t\t                        VALUES ({}, {});\n",
    "\t\t                    COMMIT;\n",
    "\t\t                    \"\"\".format(pageid, categoryid[0]['categoryid']), fetch_res=False)\n",
    "\n",
    "\t\t    else:\n",
    "\t\t    \tcat_nxt_lvl.append(title.replace(\"Category:\",\"\"))\n",
    "\n",
    "\n",
    "\t\t   "
   ]
  },
  {
   "cell_type": "code",
   "execution_count": null,
   "metadata": {
    "collapsed": true
   },
   "outputs": [],
   "source": [
    "from sklearn.feature_extraction.text import CountVectorizer\n",
    "from           sklearn.decomposition import TruncatedSVD\n",
    "from           sklearn.preprocessing import Normalizer\n",
    "from                sklearn.pipeline import make_pipeline\n",
    "import                         numpy as np\n",
    "import sys\n",
    "\n",
    "def connect_to_db():\n",
    "    con = pg2.connect(host='postgres',\n",
    "                      dbname='postgres',\n",
    "                      user='postgres')\n",
    "    cur = con.cursor(cursor_factory=RealDictCursor)\n",
    "    return con, cur\n",
    "\n",
    "def query_db(query, fetch_res=True):\n",
    "    con, cur = connect_to_db()\n",
    "    cur.execute(query)\n",
    "    if fetch_res:\n",
    "        results = cur.fetchall()\n",
    "    else:\n",
    "        results = None\n",
    "    con.close()\n",
    "    return results\n",
    "\n",
    "\n",
    "if len(sys.argv) > 1:\n",
    "    search_term = sys.argv[1]\n",
    "else:\n",
    "    raise IOError(\"Please enter a search term\")\n",
    "\n",
    "temp = query_db(\"\"\"\n",
    "                SELECT * FROM page;\n",
    "                \"\"\", fetch_res=True)\n",
    "\n",
    "page_ids = [x['pageid'] for x in temp]\n",
    "page_titles = [x['title'] for x in temp]\n",
    "page_texts = [x['pagetext'] for x in temp]\n",
    "page_texts.append(search_term)\n",
    "\n",
    "cv = CountVectorizer(min_df = 1, stop_words='english')\n",
    "cv_fit = cv.fit_transform(page_texts)\n",
    "\n",
    "svd = TruncatedSVD(100, algorithm= 'randomized')\n",
    "norm = Normalizer(copy=False)\n",
    "pipe = make_pipeline(svd, norm)\n",
    "lsa = pipe.fit_transform(cv_fit)\n",
    "sim_mat = np.asarray(np.asmatrix(lsa) * np.asmatrix(lsa).T)"
   ]
  },
  {
   "cell_type": "code",
   "execution_count": null,
   "metadata": {
    "collapsed": true
   },
   "outputs": [],
   "source": [
    "page_texts[-1]"
   ]
  },
  {
   "cell_type": "code",
   "execution_count": null,
   "metadata": {
    "collapsed": true
   },
   "outputs": [],
   "source": [
    "search_term"
   ]
  },
  {
   "cell_type": "code",
   "execution_count": null,
   "metadata": {
    "collapsed": true
   },
   "outputs": [],
   "source": [
    "sim_mat.shape"
   ]
  },
  {
   "cell_type": "code",
   "execution_count": null,
   "metadata": {
    "collapsed": true
   },
   "outputs": [],
   "source": [
    "sim_mat_idx = np.column_stack((sim_mat,np.arange(len(sim_mat)))) "
   ]
  },
  {
   "cell_type": "code",
   "execution_count": null,
   "metadata": {
    "collapsed": true
   },
   "outputs": [],
   "source": [
    "len(page_ids)"
   ]
  },
  {
   "cell_type": "code",
   "execution_count": null,
   "metadata": {
    "collapsed": true
   },
   "outputs": [],
   "source": [
    "sim_mat_idx[sim_mat_idx[:, len(page_ids)].argsort()[::-1]]"
   ]
  },
  {
   "cell_type": "code",
   "execution_count": null,
   "metadata": {
    "collapsed": true
   },
   "outputs": [],
   "source": [
    "len(sim_mat)"
   ]
  },
  {
   "cell_type": "code",
   "execution_count": null,
   "metadata": {
    "collapsed": true
   },
   "outputs": [],
   "source": [
    "cat = ['Hello', 2]\n",
    "for category in cat[0]:\n",
    "    print(cat)"
   ]
  },
  {
   "cell_type": "code",
   "execution_count": null,
   "metadata": {
    "collapsed": true
   },
   "outputs": [],
   "source": [
    "pages = query_db(\"\"\"\n",
    "                SELECT categoryid, pagetext FROM page, page_category WHERE \n",
    "                page.pageid = page_category.pageid \n",
    "                AND categoryid <= 2;\n",
    "                \"\"\", fetch_res=True)\n",
    "page_texts = [page['pagetext'] for page in pages]\n",
    "category_ids = [page['categoryid'] for page in pages]\n"
   ]
  },
  {
   "cell_type": "code",
   "execution_count": null,
   "metadata": {
    "collapsed": true
   },
   "outputs": [],
   "source": [
    "from sklearn.model_selection import GridSearchCV, StratifiedShuffleSplit, train_test_split\n",
    "from sklearn.pipeline import Pipeline\n",
    "from sklearn.linear_model import LogisticRegression\n",
    "from sklearn.feature_extraction.text import CountVectorizer, TfidfVectorizer, HashingVectorizer"
   ]
  },
  {
   "cell_type": "code",
   "execution_count": null,
   "metadata": {
    "collapsed": true
   },
   "outputs": [],
   "source": [
    "category_ids"
   ]
  },
  {
   "cell_type": "code",
   "execution_count": null,
   "metadata": {
    "collapsed": true
   },
   "outputs": [],
   "source": [
    "X = page_texts\n",
    "y = category_ids"
   ]
  },
  {
   "cell_type": "code",
   "execution_count": null,
   "metadata": {
    "collapsed": true
   },
   "outputs": [],
   "source": [
    "X_train, X_test, y_train, y_test = train_test_split(X,y,random_state = 42)"
   ]
  },
  {
   "cell_type": "code",
   "execution_count": null,
   "metadata": {
    "collapsed": true
   },
   "outputs": [],
   "source": [
    "nlp_pipe = Pipeline([\n",
    "    ('vec',TfidfVectorizer()),\n",
    "    ('clf',LogisticRegression(random_state=42))\n",
    "])"
   ]
  },
  {
   "cell_type": "code",
   "execution_count": null,
   "metadata": {
    "collapsed": true
   },
   "outputs": [],
   "source": [
    "nlp_params = {\n",
    "    'vec__ngram_range':[(1,2),(1,3)],\n",
    "    'vec__min_df':[1,2],\n",
    "    'clf__C':np.logspace(-2,4,7)\n",
    "}"
   ]
  },
  {
   "cell_type": "code",
   "execution_count": null,
   "metadata": {
    "collapsed": true
   },
   "outputs": [],
   "source": [
    "nlp_gs = GridSearchCV(nlp_pipe, \n",
    "                      nlp_params, \n",
    "                      cv=StratifiedShuffleSplit(5, random_state=42))"
   ]
  },
  {
   "cell_type": "code",
   "execution_count": null,
   "metadata": {
    "collapsed": true
   },
   "outputs": [],
   "source": [
    "X_train"
   ]
  },
  {
   "cell_type": "code",
   "execution_count": null,
   "metadata": {
    "collapsed": true
   },
   "outputs": [],
   "source": [
    "nlp_gs.fit(X_train, y_train)"
   ]
  },
  {
   "cell_type": "code",
   "execution_count": null,
   "metadata": {
    "collapsed": true
   },
   "outputs": [],
   "source": [
    "nlp_gs.best_params_"
   ]
  },
  {
   "cell_type": "code",
   "execution_count": null,
   "metadata": {
    "collapsed": true
   },
   "outputs": [],
   "source": [
    "nlp_gs.best_score_"
   ]
  },
  {
   "cell_type": "code",
   "execution_count": null,
   "metadata": {
    "collapsed": true
   },
   "outputs": [],
   "source": [
    "nlp_gs.score(X_test, y_test)"
   ]
  },
  {
   "cell_type": "code",
   "execution_count": null,
   "metadata": {
    "collapsed": true
   },
   "outputs": [],
   "source": [
    "nlp_gs.predict([\"business machine learning\"])"
   ]
  },
  {
   "cell_type": "code",
   "execution_count": null,
   "metadata": {
    "collapsed": true
   },
   "outputs": [],
   "source": [
    "nlp_gs.predict(X_test)"
   ]
  },
  {
   "cell_type": "code",
   "execution_count": null,
   "metadata": {
    "collapsed": true
   },
   "outputs": [],
   "source": [
    "url"
   ]
  },
  {
   "cell_type": "code",
   "execution_count": null,
   "metadata": {
    "collapsed": true
   },
   "outputs": [],
   "source": [
    "import pickle, sys, requests\n",
    "\n",
    "if len(sys.argv) > 1:\n",
    "    url = sys.argv[1]\n",
    "else:\n",
    "    raise IOError(\"Please enter a URL\")\n",
    "\n",
    "url = 'https://en.wikipedia.org/wiki/SimCity'\n",
    "\n",
    "response_cat = requests.get(url)"
   ]
  },
  {
   "cell_type": "code",
   "execution_count": null,
   "metadata": {
    "collapsed": true
   },
   "outputs": [],
   "source": [
    "cleaner(str(response_cat.content))"
   ]
  },
  {
   "cell_type": "code",
   "execution_count": 15,
   "metadata": {},
   "outputs": [
    {
     "name": "stdout",
     "output_type": "stream",
     "text": [
      "Collecting spacy\n",
      "Collecting ujson>=1.35 (from spacy)\n",
      "Collecting murmurhash<0.27,>=0.26 (from spacy)\n",
      "Collecting pathlib (from spacy)\n",
      "Collecting thinc<6.6.0,>=6.5.0 (from spacy)\n",
      "Requirement already satisfied: pip<10.0.0,>=9.0.0 in /opt/conda/lib/python3.6/site-packages (from spacy)\n",
      "Collecting plac<1.0.0,>=0.9.6 (from spacy)\n",
      "  Using cached plac-0.9.6-py2.py3-none-any.whl\n",
      "Collecting ftfy<5.0.0,>=4.4.2 (from spacy)\n",
      "Collecting preshed<2.0.0,>=1.0.0 (from spacy)\n",
      "Collecting cymem<1.32,>=1.30 (from spacy)\n",
      "Collecting regex<2017.12.1,>=2017.4.1 (from spacy)\n",
      "Requirement already satisfied: requests<3.0.0,>=2.13.0 in /opt/conda/lib/python3.6/site-packages (from spacy)\n",
      "Requirement already satisfied: numpy>=1.7 in /opt/conda/lib/python3.6/site-packages (from spacy)\n",
      "Requirement already satisfied: six in /opt/conda/lib/python3.6/site-packages (from spacy)\n",
      "Requirement already satisfied: dill<0.3,>=0.2 in /opt/conda/lib/python3.6/site-packages (from spacy)\n",
      "Collecting cytoolz<0.9,>=0.8 (from thinc<6.6.0,>=6.5.0->spacy)\n",
      "Collecting wrapt (from thinc<6.6.0,>=6.5.0->spacy)\n",
      "Collecting termcolor (from thinc<6.6.0,>=6.5.0->spacy)\n",
      "Collecting tqdm<5.0.0,>=4.10.0 (from thinc<6.6.0,>=6.5.0->spacy)\n",
      "  Using cached tqdm-4.15.0-py2.py3-none-any.whl\n",
      "Requirement already satisfied: html5lib in /opt/conda/lib/python3.6/site-packages (from ftfy<5.0.0,>=4.4.2->spacy)\n",
      "Requirement already satisfied: wcwidth in /opt/conda/lib/python3.6/site-packages (from ftfy<5.0.0,>=4.4.2->spacy)\n",
      "Requirement already satisfied: chardet<3.1.0,>=3.0.2 in /opt/conda/lib/python3.6/site-packages (from requests<3.0.0,>=2.13.0->spacy)\n",
      "Requirement already satisfied: idna<2.6,>=2.5 in /opt/conda/lib/python3.6/site-packages (from requests<3.0.0,>=2.13.0->spacy)\n",
      "Requirement already satisfied: urllib3<1.22,>=1.21.1 in /opt/conda/lib/python3.6/site-packages (from requests<3.0.0,>=2.13.0->spacy)\n",
      "Requirement already satisfied: certifi>=2017.4.17 in /opt/conda/lib/python3.6/site-packages (from requests<3.0.0,>=2.13.0->spacy)\n",
      "Requirement already satisfied: toolz>=0.8.0 in /opt/conda/lib/python3.6/site-packages (from cytoolz<0.9,>=0.8->thinc<6.6.0,>=6.5.0->spacy)\n",
      "Installing collected packages: ujson, murmurhash, pathlib, cytoolz, wrapt, plac, termcolor, tqdm, cymem, preshed, thinc, ftfy, regex, spacy\n",
      "Successfully installed cymem-1.31.2 cytoolz-0.8.2 ftfy-4.4.3 murmurhash-0.26.4 pathlib-1.0.1 plac-0.9.6 preshed-1.0.0 regex-2017.7.28 spacy-1.9.0 termcolor-1.1.0 thinc-6.5.2 tqdm-4.15.0 ujson-1.35 wrapt-1.10.11\n"
     ]
    }
   ],
   "source": [
    "!pip install spacy\n",
    "from spacy.en import English"
   ]
  },
  {
   "cell_type": "code",
   "execution_count": null,
   "metadata": {
    "collapsed": true
   },
   "outputs": [],
   "source": [
    "from spacy.en import English\n",
    "nlp = English()"
   ]
  },
  {
   "cell_type": "code",
   "execution_count": null,
   "metadata": {
    "collapsed": true
   },
   "outputs": [],
   "source": [
    "spam = \"Make six figures yourself every year working from home\"\n",
    "spam_nlp = nlp(spam)"
   ]
  },
  {
   "cell_type": "code",
   "execution_count": null,
   "metadata": {
    "collapsed": true
   },
   "outputs": [],
   "source": [
    "i.lemma_"
   ]
  },
  {
   "cell_type": "code",
   "execution_count": null,
   "metadata": {
    "collapsed": true
   },
   "outputs": [],
   "source": [
    "for i in spam_nlp:\n",
    "    print(\"Word: {:10} Lemma: {:10}\".format(str(i), str(i.lemma_)))"
   ]
  },
  {
   "cell_type": "code",
   "execution_count": null,
   "metadata": {
    "collapsed": true
   },
   "outputs": [],
   "source": [
    "' '.join([i.lemma_ for i in nlp('i am going to dans party on saturday')])"
   ]
  },
  {
   "cell_type": "code",
   "execution_count": null,
   "metadata": {
    "collapsed": true
   },
   "outputs": [],
   "source": [
    "for i in spam_nlp:\n",
    "    print(\"Word: {:10} Part of speech: {:10}\".format(str(i), str(i.tag_)))\n"
   ]
  },
  {
   "cell_type": "code",
   "execution_count": 14,
   "metadata": {},
   "outputs": [
    {
     "ename": "ModuleNotFoundError",
     "evalue": "No module named 'spacy'",
     "output_type": "error",
     "traceback": [
      "\u001b[0;31m---------------------------------------------------------------------------\u001b[0m",
      "\u001b[0;31mModuleNotFoundError\u001b[0m                       Traceback (most recent call last)",
      "\u001b[0;32m<ipython-input-14-30e70ab20083>\u001b[0m in \u001b[0;36m<module>\u001b[0;34m()\u001b[0m\n\u001b[0;32m----> 1\u001b[0;31m \u001b[0;32mfrom\u001b[0m \u001b[0mspacy\u001b[0m\u001b[0;34m.\u001b[0m\u001b[0men\u001b[0m \u001b[0;32mimport\u001b[0m \u001b[0mSTOP_WORDS\u001b[0m\u001b[0;34m\u001b[0m\u001b[0m\n\u001b[0m",
      "\u001b[0;31mModuleNotFoundError\u001b[0m: No module named 'spacy'"
     ]
    }
   ],
   "source": [
    "from spacy.en import STOP_WORDS"
   ]
  },
  {
   "cell_type": "code",
   "execution_count": null,
   "metadata": {
    "collapsed": true
   },
   "outputs": [],
   "source": [
    "STOP_WORDS"
   ]
  },
  {
   "cell_type": "code",
   "execution_count": null,
   "metadata": {
    "collapsed": true
   },
   "outputs": [],
   "source": [
    "category = \"Business software\""
   ]
  },
  {
   "cell_type": "code",
   "execution_count": null,
   "metadata": {
    "collapsed": true
   },
   "outputs": [],
   "source": [
    "url = \"https://en.wikipedia.org/w/api.php\"\n",
    "params = {\n",
    "    \"action\":\"query\",\n",
    "\t\t    \t\"list\":\"categorymembers\",\n",
    "\t\t    \t\"cmlimit\":\"max\",\n",
    "\t\t    \t\"format\":\"json\",\n",
    "\t\t    \t\"cmtitle\":\"Category:\" + category\n",
    "\t\t\t\t}\n",
    "\n",
    "response_cat = requests.get(url, params = params)\n",
    "response_cat_json = response_cat.json()\n",
    "\n",
    "for entry in response_cat_json['query']['categorymembers']:\n",
    "    print(len(response_cat_json['query']['categorymembers']))"
   ]
  },
  {
   "cell_type": "code",
   "execution_count": null,
   "metadata": {
    "collapsed": true
   },
   "outputs": [],
   "source": [
    "doc_num = len([entry['title'] for entry in response_cat_json['query']['categorymembers'] if entry['title'][:9] != 'Category:'])"
   ]
  },
  {
   "cell_type": "code",
   "execution_count": null,
   "metadata": {
    "collapsed": true
   },
   "outputs": [],
   "source": [
    "15/doc_num*20"
   ]
  },
  {
   "cell_type": "code",
   "execution_count": 37,
   "metadata": {
    "collapsed": true
   },
   "outputs": [],
   "source": [
    "def connect_to_db():\n",
    "    con = pg2.connect(host='postgres',\n",
    "                      dbname='postgres',\n",
    "                      user='postgres')\n",
    "    cur = con.cursor(cursor_factory=RealDictCursor)\n",
    "    return con, cur\n",
    "\n",
    "def query_db(query, fetch_res=True):\n",
    "    con, cur = connect_to_db()\n",
    "    cur.execute(query)\n",
    "    if fetch_res:\n",
    "        results = cur.fetchall()\n",
    "    else:\n",
    "        results = None\n",
    "    con.close()\n",
    "    return results"
   ]
  },
  {
   "cell_type": "code",
   "execution_count": 38,
   "metadata": {},
   "outputs": [
    {
     "name": "stdout",
     "output_type": "stream",
     "text": [
      "Retrieving page data...\n",
      "Running training model...\n"
     ]
    }
   ],
   "source": [
    "from sklearn.model_selection import GridSearchCV, StratifiedShuffleSplit\n",
    "from sklearn.pipeline import Pipeline\n",
    "from sklearn.linear_model import LogisticRegression\n",
    "from sklearn.feature_extraction.text import TfidfVectorizer\n",
    "#from lib import connect_to_db, query_db\n",
    "import numpy as np\n",
    "import pickle\n",
    "\n",
    "print(\"Retrieving page data...\")\n",
    "\n",
    "pages = query_db(\"\"\"\n",
    "                SELECT category.categoryid, pagetext \n",
    "                FROM page, page_category, category \n",
    "                WHERE page.pageid = page_category.pageid \n",
    "                AND category.categoryid = page_category.categoryid  \n",
    "                AND category.parentcategory = True;\n",
    "                \"\"\", fetch_res=True)\n",
    "page_texts = [page['pagetext'] for page in pages]\n",
    "category_ids = [page['categoryid'] for page in pages]\n",
    "\n",
    "X = page_texts\n",
    "y = category_ids\n",
    "\n",
    "nlp_pipe = Pipeline([\n",
    "    ('vec',TfidfVectorizer()),\n",
    "    ('clf',LogisticRegression(random_state=42))\n",
    "])\n",
    "\n",
    "nlp_params = {\n",
    "    'vec__ngram_range':[(1,2),(1,3)],\n",
    "    'vec__min_df':[1,2],\n",
    "    'clf__C':np.logspace(-2,4,7)\n",
    "}\n",
    "\n",
    "print(\"Running training model...\")\n",
    "\n",
    "nlp_gs = GridSearchCV(nlp_pipe, \n",
    "                      nlp_params, \n",
    "                      cv=StratifiedShuffleSplit(5, random_state=42))\n",
    "\n"
   ]
  },
  {
   "cell_type": "code",
   "execution_count": 40,
   "metadata": {
    "collapsed": true
   },
   "outputs": [],
   "source": [
    "from sklearn.model_selection import train_test_split\n",
    "X_train, X_test, y_train, y_test = train_test_split(X,y,random_state=42)"
   ]
  },
  {
   "cell_type": "code",
   "execution_count": 45,
   "metadata": {},
   "outputs": [
    {
     "ename": "AttributeError",
     "evalue": "'GridSearchCV' object has no attribute 'classes_'",
     "output_type": "error",
     "traceback": [
      "\u001b[0;31m---------------------------------------------------------------------------\u001b[0m",
      "\u001b[0;31mAttributeError\u001b[0m                            Traceback (most recent call last)",
      "\u001b[0;32m<ipython-input-45-5357a91ec58e>\u001b[0m in \u001b[0;36m<module>\u001b[0;34m()\u001b[0m\n\u001b[0;32m----> 1\u001b[0;31m \u001b[0mnlp_gs\u001b[0m\u001b[0;34m.\u001b[0m\u001b[0mclasses_\u001b[0m\u001b[0;34m(\u001b[0m\u001b[0my_test\u001b[0m\u001b[0;34m)\u001b[0m\u001b[0;34m\u001b[0m\u001b[0m\n\u001b[0m",
      "\u001b[0;31mAttributeError\u001b[0m: 'GridSearchCV' object has no attribute 'classes_'"
     ]
    }
   ],
   "source": [
    "nlp_gs."
   ]
  },
  {
   "cell_type": "code",
   "execution_count": 41,
   "metadata": {},
   "outputs": [
    {
     "ename": "AttributeError",
     "evalue": "'int' object has no attribute 'lower'",
     "output_type": "error",
     "traceback": [
      "\u001b[0;31m---------------------------------------------------------------------------\u001b[0m",
      "\u001b[0;31mAttributeError\u001b[0m                            Traceback (most recent call last)",
      "\u001b[0;32m<ipython-input-41-6b48ca4e61e9>\u001b[0m in \u001b[0;36m<module>\u001b[0;34m()\u001b[0m\n\u001b[1;32m      1\u001b[0m \u001b[0mnlp_gs\u001b[0m\u001b[0;34m.\u001b[0m\u001b[0mfit\u001b[0m\u001b[0;34m(\u001b[0m\u001b[0mX_train\u001b[0m\u001b[0;34m,\u001b[0m \u001b[0my_train\u001b[0m\u001b[0;34m)\u001b[0m\u001b[0;34m\u001b[0m\u001b[0m\n\u001b[1;32m      2\u001b[0m \u001b[0;34m\u001b[0m\u001b[0m\n\u001b[0;32m----> 3\u001b[0;31m \u001b[0mnlp_gs\u001b[0m\u001b[0;34m.\u001b[0m\u001b[0mpredict_proba\u001b[0m\u001b[0;34m(\u001b[0m\u001b[0my_test\u001b[0m\u001b[0;34m)\u001b[0m\u001b[0;34m\u001b[0m\u001b[0m\n\u001b[0m\u001b[1;32m      4\u001b[0m \u001b[0;34m\u001b[0m\u001b[0m\n",
      "\u001b[0;32m/opt/conda/lib/python3.6/site-packages/sklearn/utils/metaestimators.py\u001b[0m in \u001b[0;36m<lambda>\u001b[0;34m(*args, **kwargs)\u001b[0m\n\u001b[1;32m     52\u001b[0m \u001b[0;34m\u001b[0m\u001b[0m\n\u001b[1;32m     53\u001b[0m         \u001b[0;31m# lambda, but not partial, allows help() to work with update_wrapper\u001b[0m\u001b[0;34m\u001b[0m\u001b[0;34m\u001b[0m\u001b[0m\n\u001b[0;32m---> 54\u001b[0;31m         \u001b[0mout\u001b[0m \u001b[0;34m=\u001b[0m \u001b[0;32mlambda\u001b[0m \u001b[0;34m*\u001b[0m\u001b[0margs\u001b[0m\u001b[0;34m,\u001b[0m \u001b[0;34m**\u001b[0m\u001b[0mkwargs\u001b[0m\u001b[0;34m:\u001b[0m \u001b[0mself\u001b[0m\u001b[0;34m.\u001b[0m\u001b[0mfn\u001b[0m\u001b[0;34m(\u001b[0m\u001b[0mobj\u001b[0m\u001b[0;34m,\u001b[0m \u001b[0;34m*\u001b[0m\u001b[0margs\u001b[0m\u001b[0;34m,\u001b[0m \u001b[0;34m**\u001b[0m\u001b[0mkwargs\u001b[0m\u001b[0;34m)\u001b[0m\u001b[0;34m\u001b[0m\u001b[0m\n\u001b[0m\u001b[1;32m     55\u001b[0m         \u001b[0;31m# update the docstring of the returned function\u001b[0m\u001b[0;34m\u001b[0m\u001b[0;34m\u001b[0m\u001b[0m\n\u001b[1;32m     56\u001b[0m         \u001b[0mupdate_wrapper\u001b[0m\u001b[0;34m(\u001b[0m\u001b[0mout\u001b[0m\u001b[0;34m,\u001b[0m \u001b[0mself\u001b[0m\u001b[0;34m.\u001b[0m\u001b[0mfn\u001b[0m\u001b[0;34m)\u001b[0m\u001b[0;34m\u001b[0m\u001b[0m\n",
      "\u001b[0;32m/opt/conda/lib/python3.6/site-packages/sklearn/model_selection/_search.py\u001b[0m in \u001b[0;36mpredict_proba\u001b[0;34m(self, X)\u001b[0m\n\u001b[1;32m    463\u001b[0m         \"\"\"\n\u001b[1;32m    464\u001b[0m         \u001b[0mself\u001b[0m\u001b[0;34m.\u001b[0m\u001b[0m_check_is_fitted\u001b[0m\u001b[0;34m(\u001b[0m\u001b[0;34m'predict_proba'\u001b[0m\u001b[0;34m)\u001b[0m\u001b[0;34m\u001b[0m\u001b[0m\n\u001b[0;32m--> 465\u001b[0;31m         \u001b[0;32mreturn\u001b[0m \u001b[0mself\u001b[0m\u001b[0;34m.\u001b[0m\u001b[0mbest_estimator_\u001b[0m\u001b[0;34m.\u001b[0m\u001b[0mpredict_proba\u001b[0m\u001b[0;34m(\u001b[0m\u001b[0mX\u001b[0m\u001b[0;34m)\u001b[0m\u001b[0;34m\u001b[0m\u001b[0m\n\u001b[0m\u001b[1;32m    466\u001b[0m \u001b[0;34m\u001b[0m\u001b[0m\n\u001b[1;32m    467\u001b[0m     \u001b[0;34m@\u001b[0m\u001b[0mif_delegate_has_method\u001b[0m\u001b[0;34m(\u001b[0m\u001b[0mdelegate\u001b[0m\u001b[0;34m=\u001b[0m\u001b[0;34m(\u001b[0m\u001b[0;34m'best_estimator_'\u001b[0m\u001b[0;34m,\u001b[0m \u001b[0;34m'estimator'\u001b[0m\u001b[0;34m)\u001b[0m\u001b[0;34m)\u001b[0m\u001b[0;34m\u001b[0m\u001b[0m\n",
      "\u001b[0;32m/opt/conda/lib/python3.6/site-packages/sklearn/utils/metaestimators.py\u001b[0m in \u001b[0;36m<lambda>\u001b[0;34m(*args, **kwargs)\u001b[0m\n\u001b[1;32m     52\u001b[0m \u001b[0;34m\u001b[0m\u001b[0m\n\u001b[1;32m     53\u001b[0m         \u001b[0;31m# lambda, but not partial, allows help() to work with update_wrapper\u001b[0m\u001b[0;34m\u001b[0m\u001b[0;34m\u001b[0m\u001b[0m\n\u001b[0;32m---> 54\u001b[0;31m         \u001b[0mout\u001b[0m \u001b[0;34m=\u001b[0m \u001b[0;32mlambda\u001b[0m \u001b[0;34m*\u001b[0m\u001b[0margs\u001b[0m\u001b[0;34m,\u001b[0m \u001b[0;34m**\u001b[0m\u001b[0mkwargs\u001b[0m\u001b[0;34m:\u001b[0m \u001b[0mself\u001b[0m\u001b[0;34m.\u001b[0m\u001b[0mfn\u001b[0m\u001b[0;34m(\u001b[0m\u001b[0mobj\u001b[0m\u001b[0;34m,\u001b[0m \u001b[0;34m*\u001b[0m\u001b[0margs\u001b[0m\u001b[0;34m,\u001b[0m \u001b[0;34m**\u001b[0m\u001b[0mkwargs\u001b[0m\u001b[0;34m)\u001b[0m\u001b[0;34m\u001b[0m\u001b[0m\n\u001b[0m\u001b[1;32m     55\u001b[0m         \u001b[0;31m# update the docstring of the returned function\u001b[0m\u001b[0;34m\u001b[0m\u001b[0;34m\u001b[0m\u001b[0m\n\u001b[1;32m     56\u001b[0m         \u001b[0mupdate_wrapper\u001b[0m\u001b[0;34m(\u001b[0m\u001b[0mout\u001b[0m\u001b[0;34m,\u001b[0m \u001b[0mself\u001b[0m\u001b[0;34m.\u001b[0m\u001b[0mfn\u001b[0m\u001b[0;34m)\u001b[0m\u001b[0;34m\u001b[0m\u001b[0m\n",
      "\u001b[0;32m/opt/conda/lib/python3.6/site-packages/sklearn/pipeline.py\u001b[0m in \u001b[0;36mpredict_proba\u001b[0;34m(self, X)\u001b[0m\n\u001b[1;32m    374\u001b[0m         \u001b[0;32mfor\u001b[0m \u001b[0mname\u001b[0m\u001b[0;34m,\u001b[0m \u001b[0mtransform\u001b[0m \u001b[0;32min\u001b[0m \u001b[0mself\u001b[0m\u001b[0;34m.\u001b[0m\u001b[0msteps\u001b[0m\u001b[0;34m[\u001b[0m\u001b[0;34m:\u001b[0m\u001b[0;34m-\u001b[0m\u001b[0;36m1\u001b[0m\u001b[0;34m]\u001b[0m\u001b[0;34m:\u001b[0m\u001b[0;34m\u001b[0m\u001b[0m\n\u001b[1;32m    375\u001b[0m             \u001b[0;32mif\u001b[0m \u001b[0mtransform\u001b[0m \u001b[0;32mis\u001b[0m \u001b[0;32mnot\u001b[0m \u001b[0;32mNone\u001b[0m\u001b[0;34m:\u001b[0m\u001b[0;34m\u001b[0m\u001b[0m\n\u001b[0;32m--> 376\u001b[0;31m                 \u001b[0mXt\u001b[0m \u001b[0;34m=\u001b[0m \u001b[0mtransform\u001b[0m\u001b[0;34m.\u001b[0m\u001b[0mtransform\u001b[0m\u001b[0;34m(\u001b[0m\u001b[0mXt\u001b[0m\u001b[0;34m)\u001b[0m\u001b[0;34m\u001b[0m\u001b[0m\n\u001b[0m\u001b[1;32m    377\u001b[0m         \u001b[0;32mreturn\u001b[0m \u001b[0mself\u001b[0m\u001b[0;34m.\u001b[0m\u001b[0msteps\u001b[0m\u001b[0;34m[\u001b[0m\u001b[0;34m-\u001b[0m\u001b[0;36m1\u001b[0m\u001b[0;34m]\u001b[0m\u001b[0;34m[\u001b[0m\u001b[0;34m-\u001b[0m\u001b[0;36m1\u001b[0m\u001b[0;34m]\u001b[0m\u001b[0;34m.\u001b[0m\u001b[0mpredict_proba\u001b[0m\u001b[0;34m(\u001b[0m\u001b[0mXt\u001b[0m\u001b[0;34m)\u001b[0m\u001b[0;34m\u001b[0m\u001b[0m\n\u001b[1;32m    378\u001b[0m \u001b[0;34m\u001b[0m\u001b[0m\n",
      "\u001b[0;32m/opt/conda/lib/python3.6/site-packages/sklearn/feature_extraction/text.py\u001b[0m in \u001b[0;36mtransform\u001b[0;34m(self, raw_documents, copy)\u001b[0m\n\u001b[1;32m   1378\u001b[0m         \u001b[0mcheck_is_fitted\u001b[0m\u001b[0;34m(\u001b[0m\u001b[0mself\u001b[0m\u001b[0;34m,\u001b[0m \u001b[0;34m'_tfidf'\u001b[0m\u001b[0;34m,\u001b[0m \u001b[0;34m'The tfidf vector is not fitted'\u001b[0m\u001b[0;34m)\u001b[0m\u001b[0;34m\u001b[0m\u001b[0m\n\u001b[1;32m   1379\u001b[0m \u001b[0;34m\u001b[0m\u001b[0m\n\u001b[0;32m-> 1380\u001b[0;31m         \u001b[0mX\u001b[0m \u001b[0;34m=\u001b[0m \u001b[0msuper\u001b[0m\u001b[0;34m(\u001b[0m\u001b[0mTfidfVectorizer\u001b[0m\u001b[0;34m,\u001b[0m \u001b[0mself\u001b[0m\u001b[0;34m)\u001b[0m\u001b[0;34m.\u001b[0m\u001b[0mtransform\u001b[0m\u001b[0;34m(\u001b[0m\u001b[0mraw_documents\u001b[0m\u001b[0;34m)\u001b[0m\u001b[0;34m\u001b[0m\u001b[0m\n\u001b[0m\u001b[1;32m   1381\u001b[0m         \u001b[0;32mreturn\u001b[0m \u001b[0mself\u001b[0m\u001b[0;34m.\u001b[0m\u001b[0m_tfidf\u001b[0m\u001b[0;34m.\u001b[0m\u001b[0mtransform\u001b[0m\u001b[0;34m(\u001b[0m\u001b[0mX\u001b[0m\u001b[0;34m,\u001b[0m \u001b[0mcopy\u001b[0m\u001b[0;34m=\u001b[0m\u001b[0;32mFalse\u001b[0m\u001b[0;34m)\u001b[0m\u001b[0;34m\u001b[0m\u001b[0m\n",
      "\u001b[0;32m/opt/conda/lib/python3.6/site-packages/sklearn/feature_extraction/text.py\u001b[0m in \u001b[0;36mtransform\u001b[0;34m(self, raw_documents)\u001b[0m\n\u001b[1;32m    891\u001b[0m \u001b[0;34m\u001b[0m\u001b[0m\n\u001b[1;32m    892\u001b[0m         \u001b[0;31m# use the same matrix-building strategy as fit_transform\u001b[0m\u001b[0;34m\u001b[0m\u001b[0;34m\u001b[0m\u001b[0m\n\u001b[0;32m--> 893\u001b[0;31m         \u001b[0m_\u001b[0m\u001b[0;34m,\u001b[0m \u001b[0mX\u001b[0m \u001b[0;34m=\u001b[0m \u001b[0mself\u001b[0m\u001b[0;34m.\u001b[0m\u001b[0m_count_vocab\u001b[0m\u001b[0;34m(\u001b[0m\u001b[0mraw_documents\u001b[0m\u001b[0;34m,\u001b[0m \u001b[0mfixed_vocab\u001b[0m\u001b[0;34m=\u001b[0m\u001b[0;32mTrue\u001b[0m\u001b[0;34m)\u001b[0m\u001b[0;34m\u001b[0m\u001b[0m\n\u001b[0m\u001b[1;32m    894\u001b[0m         \u001b[0;32mif\u001b[0m \u001b[0mself\u001b[0m\u001b[0;34m.\u001b[0m\u001b[0mbinary\u001b[0m\u001b[0;34m:\u001b[0m\u001b[0;34m\u001b[0m\u001b[0m\n\u001b[1;32m    895\u001b[0m             \u001b[0mX\u001b[0m\u001b[0;34m.\u001b[0m\u001b[0mdata\u001b[0m\u001b[0;34m.\u001b[0m\u001b[0mfill\u001b[0m\u001b[0;34m(\u001b[0m\u001b[0;36m1\u001b[0m\u001b[0;34m)\u001b[0m\u001b[0;34m\u001b[0m\u001b[0m\n",
      "\u001b[0;32m/opt/conda/lib/python3.6/site-packages/sklearn/feature_extraction/text.py\u001b[0m in \u001b[0;36m_count_vocab\u001b[0;34m(self, raw_documents, fixed_vocab)\u001b[0m\n\u001b[1;32m    760\u001b[0m         \u001b[0;32mfor\u001b[0m \u001b[0mdoc\u001b[0m \u001b[0;32min\u001b[0m \u001b[0mraw_documents\u001b[0m\u001b[0;34m:\u001b[0m\u001b[0;34m\u001b[0m\u001b[0m\n\u001b[1;32m    761\u001b[0m             \u001b[0mfeature_counter\u001b[0m \u001b[0;34m=\u001b[0m \u001b[0;34m{\u001b[0m\u001b[0;34m}\u001b[0m\u001b[0;34m\u001b[0m\u001b[0m\n\u001b[0;32m--> 762\u001b[0;31m             \u001b[0;32mfor\u001b[0m \u001b[0mfeature\u001b[0m \u001b[0;32min\u001b[0m \u001b[0manalyze\u001b[0m\u001b[0;34m(\u001b[0m\u001b[0mdoc\u001b[0m\u001b[0;34m)\u001b[0m\u001b[0;34m:\u001b[0m\u001b[0;34m\u001b[0m\u001b[0m\n\u001b[0m\u001b[1;32m    763\u001b[0m                 \u001b[0;32mtry\u001b[0m\u001b[0;34m:\u001b[0m\u001b[0;34m\u001b[0m\u001b[0m\n\u001b[1;32m    764\u001b[0m                     \u001b[0mfeature_idx\u001b[0m \u001b[0;34m=\u001b[0m \u001b[0mvocabulary\u001b[0m\u001b[0;34m[\u001b[0m\u001b[0mfeature\u001b[0m\u001b[0;34m]\u001b[0m\u001b[0;34m\u001b[0m\u001b[0m\n",
      "\u001b[0;32m/opt/conda/lib/python3.6/site-packages/sklearn/feature_extraction/text.py\u001b[0m in \u001b[0;36m<lambda>\u001b[0;34m(doc)\u001b[0m\n\u001b[1;32m    239\u001b[0m \u001b[0;34m\u001b[0m\u001b[0m\n\u001b[1;32m    240\u001b[0m             return lambda doc: self._word_ngrams(\n\u001b[0;32m--> 241\u001b[0;31m                 tokenize(preprocess(self.decode(doc))), stop_words)\n\u001b[0m\u001b[1;32m    242\u001b[0m \u001b[0;34m\u001b[0m\u001b[0m\n\u001b[1;32m    243\u001b[0m         \u001b[0;32melse\u001b[0m\u001b[0;34m:\u001b[0m\u001b[0;34m\u001b[0m\u001b[0m\n",
      "\u001b[0;32m/opt/conda/lib/python3.6/site-packages/sklearn/feature_extraction/text.py\u001b[0m in \u001b[0;36m<lambda>\u001b[0;34m(x)\u001b[0m\n\u001b[1;32m    205\u001b[0m \u001b[0;34m\u001b[0m\u001b[0m\n\u001b[1;32m    206\u001b[0m         \u001b[0;32mif\u001b[0m \u001b[0mself\u001b[0m\u001b[0;34m.\u001b[0m\u001b[0mlowercase\u001b[0m\u001b[0;34m:\u001b[0m\u001b[0;34m\u001b[0m\u001b[0m\n\u001b[0;32m--> 207\u001b[0;31m             \u001b[0;32mreturn\u001b[0m \u001b[0;32mlambda\u001b[0m \u001b[0mx\u001b[0m\u001b[0;34m:\u001b[0m \u001b[0mstrip_accents\u001b[0m\u001b[0;34m(\u001b[0m\u001b[0mx\u001b[0m\u001b[0;34m.\u001b[0m\u001b[0mlower\u001b[0m\u001b[0;34m(\u001b[0m\u001b[0;34m)\u001b[0m\u001b[0;34m)\u001b[0m\u001b[0;34m\u001b[0m\u001b[0m\n\u001b[0m\u001b[1;32m    208\u001b[0m         \u001b[0;32melse\u001b[0m\u001b[0;34m:\u001b[0m\u001b[0;34m\u001b[0m\u001b[0m\n\u001b[1;32m    209\u001b[0m             \u001b[0;32mreturn\u001b[0m \u001b[0mstrip_accents\u001b[0m\u001b[0;34m\u001b[0m\u001b[0m\n",
      "\u001b[0;31mAttributeError\u001b[0m: 'int' object has no attribute 'lower'"
     ]
    }
   ],
   "source": [
    "nlp_gs.fit(X_train, y_train)\n",
    "\n",
    "nlp_gs.predict(X_)\n",
    "\n"
   ]
  },
  {
   "cell_type": "code",
   "execution_count": 31,
   "metadata": {},
   "outputs": [
    {
     "data": {
      "text/plain": [
       "0.99761904761904763"
      ]
     },
     "execution_count": 31,
     "metadata": {},
     "output_type": "execute_result"
    }
   ],
   "source": [
    "nlp_gs.score(X_train, y_train)"
   ]
  },
  {
   "cell_type": "code",
   "execution_count": 32,
   "metadata": {},
   "outputs": [
    {
     "data": {
      "text/plain": [
       "0.97163120567375882"
      ]
     },
     "execution_count": 32,
     "metadata": {},
     "output_type": "execute_result"
    }
   ],
   "source": [
    "nlp_gs.score(X_test, y_test)"
   ]
  },
  {
   "cell_type": "code",
   "execution_count": 33,
   "metadata": {},
   "outputs": [
    {
     "data": {
      "text/plain": [
       "{'clf__C': 10.0, 'vec__min_df': 2, 'vec__ngram_range': (1, 2)}"
      ]
     },
     "execution_count": 33,
     "metadata": {},
     "output_type": "execute_result"
    }
   ],
   "source": [
    "nlp_gs.best_params_"
   ]
  },
  {
   "cell_type": "code",
   "execution_count": 35,
   "metadata": {
    "collapsed": true
   },
   "outputs": [],
   "source": [
    "url = \"https://en.wikipedia.org/wiki/Business_software\""
   ]
  },
  {
   "cell_type": "code",
   "execution_count": 37,
   "metadata": {},
   "outputs": [
    {
     "data": {
      "text/plain": [
       "'Business_software'"
      ]
     },
     "execution_count": 37,
     "metadata": {},
     "output_type": "execute_result"
    }
   ],
   "source": [
    "url.split(\"/\")[-1]"
   ]
  },
  {
   "cell_type": "code",
   "execution_count": 60,
   "metadata": {
    "collapsed": true
   },
   "outputs": [],
   "source": [
    "search_term = \"Busines\"\n",
    "url = \"https://en.wikipedia.org/w/api.php\"\n",
    "params = {\n",
    "\"action\":\"query\",\n",
    "    \"prop\":\"extracts\",\n",
    "    \"exlimit\":\"max\",\n",
    "\"format\":\"json\",\n",
    "\"explaintext\":True,\n",
    "\"titles\": search_term\n",
    "}\n",
    "response_pag = requests.get(url, params = params)\n",
    "response_pag_json = response_pag.json()"
   ]
  },
  {
   "cell_type": "code",
   "execution_count": 61,
   "metadata": {
    "collapsed": true
   },
   "outputs": [],
   "source": [
    "pageid = [key for key in response_pag_json['query']['pages']][0]"
   ]
  },
  {
   "cell_type": "code",
   "execution_count": 62,
   "metadata": {},
   "outputs": [
    {
     "data": {
      "text/plain": [
       "'-1'"
      ]
     },
     "execution_count": 62,
     "metadata": {},
     "output_type": "execute_result"
    }
   ],
   "source": [
    "pageid"
   ]
  },
  {
   "cell_type": "code",
   "execution_count": 63,
   "metadata": {},
   "outputs": [
    {
     "data": {
      "text/plain": [
       "{'batchcomplete': '',\n",
       " 'limits': {'extracts': 20},\n",
       " 'query': {'pages': {'-1': {'missing': '', 'ns': 0, 'title': 'Busines'}}}}"
      ]
     },
     "execution_count": 63,
     "metadata": {},
     "output_type": "execute_result"
    }
   ],
   "source": [
    "response_pag_json"
   ]
  },
  {
   "cell_type": "code",
   "execution_count": 1,
   "metadata": {
    "collapsed": true
   },
   "outputs": [],
   "source": [
    "test = 20.3924383943\n"
   ]
  },
  {
   "cell_type": "code",
   "execution_count": 2,
   "metadata": {},
   "outputs": [
    {
     "data": {
      "text/plain": [
       "20.3924383943"
      ]
     },
     "execution_count": 2,
     "metadata": {},
     "output_type": "execute_result"
    }
   ],
   "source": [
    "test"
   ]
  },
  {
   "cell_type": "code",
   "execution_count": 4,
   "metadata": {},
   "outputs": [
    {
     "data": {
      "text/plain": [
       "20.39"
      ]
     },
     "execution_count": 4,
     "metadata": {},
     "output_type": "execute_result"
    }
   ],
   "source": [
    "round(test,2)"
   ]
  },
  {
   "cell_type": "code",
   "execution_count": 7,
   "metadata": {},
   "outputs": [
    {
     "ename": "NameError",
     "evalue": "name 'pickle' is not defined",
     "output_type": "error",
     "traceback": [
      "\u001b[0;31m---------------------------------------------------------------------------\u001b[0m",
      "\u001b[0;31mNameError\u001b[0m                                 Traceback (most recent call last)",
      "\u001b[0;32m<ipython-input-7-5edf81acaaff>\u001b[0m in \u001b[0;36m<module>\u001b[0;34m()\u001b[0m\n\u001b[1;32m      1\u001b[0m \u001b[0mfilename\u001b[0m \u001b[0;34m=\u001b[0m \u001b[0;34m'model.sav'\u001b[0m\u001b[0;34m\u001b[0m\u001b[0m\n\u001b[0;32m----> 2\u001b[0;31m \u001b[0mmodel_pkl\u001b[0m \u001b[0;34m=\u001b[0m \u001b[0mpickle\u001b[0m\u001b[0;34m.\u001b[0m\u001b[0mdump\u001b[0m\u001b[0;34m(\u001b[0m\u001b[0mnlp_gs\u001b[0m\u001b[0;34m,\u001b[0m \u001b[0mopen\u001b[0m\u001b[0;34m(\u001b[0m\u001b[0mfilename\u001b[0m\u001b[0;34m,\u001b[0m \u001b[0;34m'wb'\u001b[0m\u001b[0;34m)\u001b[0m\u001b[0;34m)\u001b[0m\u001b[0;34m\u001b[0m\u001b[0m\n\u001b[0m",
      "\u001b[0;31mNameError\u001b[0m: name 'pickle' is not defined"
     ]
    }
   ],
   "source": [
    "filename = 'model.sav'\n",
    "model_pkl = pickle.dump(nlp_gs, open(filename, 'wb'))"
   ]
  },
  {
   "cell_type": "code",
   "execution_count": null,
   "metadata": {
    "collapsed": true
   },
   "outputs": [],
   "source": []
  }
 ],
 "metadata": {
  "kernelspec": {
   "display_name": "Python 3",
   "language": "python",
   "name": "python3"
  },
  "language_info": {
   "codemirror_mode": {
    "name": "ipython",
    "version": 3
   },
   "file_extension": ".py",
   "mimetype": "text/x-python",
   "name": "python",
   "nbconvert_exporter": "python",
   "pygments_lexer": "ipython3",
   "version": "3.6.1"
  }
 },
 "nbformat": 4,
 "nbformat_minor": 2
}
